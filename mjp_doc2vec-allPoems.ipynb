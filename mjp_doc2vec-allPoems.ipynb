{
 "cells": [
  {
   "cell_type": "markdown",
   "metadata": {},
   "source": [
    "# Poetic Similarity of Chunks Across MJP Corpus\n",
    "## Includes Letters"
   ]
  },
  {
   "cell_type": "code",
   "execution_count": 1,
   "metadata": {},
   "outputs": [
    {
     "data": {
      "text/html": [
       "        <script type=\"text/javascript\">\n",
       "        window.PlotlyConfig = {MathJaxConfig: 'local'};\n",
       "        if (window.MathJax) {MathJax.Hub.Config({SVG: {font: \"STIX-Web\"}});}\n",
       "        if (typeof require !== 'undefined') {\n",
       "        require.undef(\"plotly\");\n",
       "        requirejs.config({\n",
       "            paths: {\n",
       "                'plotly': ['https://cdn.plot.ly/plotly-latest.min']\n",
       "            }\n",
       "        });\n",
       "        require(['plotly'], function(Plotly) {\n",
       "            window._Plotly = Plotly;\n",
       "        });\n",
       "        }\n",
       "        </script>\n",
       "        "
      ]
     },
     "metadata": {},
     "output_type": "display_data"
    }
   ],
   "source": [
    "import pandas as pd\n",
    "import numpy as np\n",
    "import gensim\n",
    "import umap\n",
    "import re, string\n",
    "import nltk\n",
    "englishWords = set(nltk.corpus.words.words())\n",
    "\n",
    "import plotly.graph_objs as go\n",
    "from plotly.offline import download_plotlyjs, init_notebook_mode, plot, iplot\n",
    "init_notebook_mode(connected=True)\n",
    "\n",
    "abs_dir = \"/Users/williamquinn/Desktop/DH/Python/\""
   ]
  },
  {
   "cell_type": "markdown",
   "metadata": {},
   "source": [
    "# 1. Data Preparation"
   ]
  },
  {
   "cell_type": "code",
   "execution_count": null,
   "metadata": {},
   "outputs": [],
   "source": [
    "%%time\n",
    "\n",
    "# Load data.\n",
    "mjp_df = pd.read_csv(abs_dir + 'MJP/Output/mjp_documents.txt', sep='\\t')[['mjp_id', 'magazine', \n",
    "                                                                         'date', 'type', 'text']]\n",
    "\n",
    "mjp_df = mjp_df.rename(columns = {'mjp_id':'mjp_index'})\n",
    "\n",
    "# Remove bibliographic information (volume/issue, year) from strings.\n",
    "mjp_df['text'] = mjp_df['text'].astype(str) \\\n",
    "    .str.lower() \\\n",
    "    .str.strip() \\\n",
    "    .str.replace(r'[^\\w\\s]','', regex=True) \\\n",
    "    .str.replace(r\"pgbrk\",\"\", regex=True) \\\n",
    "    .str.replace('\\.0', '', regex=True) \\\n",
    "    .str.replace(r'vol \\w+ no \\d+ \\w+ \\d{4}', '', regex=True) \\\n",
    "    .str.replace(r'\\w+ \\d{4}', '', regex=True) \\\n",
    "    .str.replace(r'vol \\w+ no \\d+', '', regex=True) \\\n",
    "    .str.replace(r'v ', '', regex=True) \\\n",
    "    .str.replace(r'vol ', '', regex=True) \\\n",
    "    .str.replace(r'no ', '', regex=True) \\\n",
    "    .str.replace(r'poetry a magazine of verse', '', regex=True) \\\n",
    "    .str.replace(r'the little review', '', regex=True) \\\n",
    "    .str.replace(r'the seven arts', '', regex=True) \\\n",
    "    .str.replace(r'others', '', regex=True) \\\n",
    "    .str.replace(r'the masses', '', regex=True) \\\n",
    "    .str.replace(r'the crisis', '', regex=True) \\\n",
    "    .str.replace(r'marsden magazines', '', regex=True) \\\n",
    "    .apply(lambda x: ' '.join([item for item in x.split() if item in englishWords]))\n",
    "  \n",
    "# Subset dataframe for selected genre.\n",
    "mjp_df_Poetry = mjp_df[(mjp_df['type'].isin(['poetry', 'letters']))]\n",
    "                             \n",
    "\n",
    "# Split text field string into list of 200 words.\n",
    "def splitText(string):\n",
    "    words = string.split()\n",
    "    grouped_words = [' '.join(words[i: i + 200]) for i in range(0, len(words), 200)]\n",
    "    return grouped_words\n",
    "\n",
    "mjp_df_Poetry['text'] = mjp_df_Poetry['text'].apply(splitText)\n",
    "\n",
    "# Unnest list and create row for each list item.\n",
    "# https://mikulskibartosz.name/how-to-split-a-list-inside-a-dataframe-cell-into-rows-in-pandas-9849d8ff2401\n",
    "mjp_df_Poetry = mjp_df_Poetry['text'] \\\n",
    "    .apply(pd.Series) \\\n",
    "    .merge(mjp_df_Poetry, right_index = True, left_index = True) \\\n",
    "    .drop([\"text\"], axis = 1) \\\n",
    "    .melt(id_vars = ['mjp_index', 'magazine', 'date', 'type'], value_name = \"text\") \\\n",
    "    .drop(\"variable\", axis = 1) \\\n",
    "    .dropna()\n",
    "\n",
    "# Count words and remove short strings.\n",
    "mjp_df_Poetry['count'] = mjp_df_Poetry['text'].str.split().str.len()\n",
    "mjp_df_Poetry = mjp_df_Poetry[~(mjp_df_Poetry['count'] < 200)]\n",
    "\n",
    "# Change index value to prevent duplication when merged with original dataframe.\n",
    "mjp_df_Poetry['mjp_index'] = mjp_df_Poetry.index + 10000\n",
    "\n",
    "\n",
    "# Creating The Waste Land\n",
    "regex = re.compile('[\\W_]+')\n",
    "wasteLand = regex.sub(' ', open(abs_dir + '19-20c_Corpus/WasteLand-Eliot.txt').read().lower())\n",
    "\n",
    "wasteLand = pd.DataFrame({'text':wasteLand}, index = [0])\n",
    "\n",
    "wasteLand['text'] = wasteLand['text'].apply(splitText)\n",
    "\n",
    "wasteLand = wasteLand['text'].apply(lambda x: pd.Series(x)) \\\n",
    "    .stack() \\\n",
    "    .reset_index(drop=True) \n",
    "\n",
    "wasteLand = pd.DataFrame(wasteLand, columns = ['text'])\n",
    "wasteLand['mjp_index'] = wasteLand.index + 90000\n",
    "wasteLand['magazine'] = 'the dial'\n",
    "wasteLand['date'] = '1922-11-01' # Date published in America in The Dial\n",
    "wasteLand['type'] = 'poetry'\n",
    "wasteLand['count'] = wasteLand['text'].str.split().str.len()\n",
    "wasteLand = wasteLand[~(wasteLand['count'] < 200)]\n",
    "\n",
    "# Rejoing dataframes\n",
    "mjp_df = pd.concat([mjp_df, mjp_df_Poetry, wasteLand], sort = True)\n",
    "\n",
    "mjp_df.to_csv(abs_dir + 'MJP/Chapter3-Poetry/Poetry-MJP/mjp_ALL-poetry-letters-wasteLand_chunks.csv', \n",
    "              sep=',', index=False)"
   ]
  },
  {
   "cell_type": "markdown",
   "metadata": {},
   "source": [
    "# 2. Train Model"
   ]
  },
  {
   "cell_type": "code",
   "execution_count": null,
   "metadata": {},
   "outputs": [],
   "source": [
    "%%time\n",
    "\n",
    "# Create Corpus\n",
    "tagged_docs = mjp_df.apply \\\n",
    "    (lambda x:gensim.models.doc2vec.TaggedDocument \\\n",
    "     (gensim.utils.simple_preprocess(x.text), \\\n",
    "      ['doc{}'.format(x.mjp_index)]), axis=1)\n",
    "\n",
    "training_corpus = tagged_docs.values\n",
    "\n",
    "# Training.\n",
    "model = gensim.models.doc2vec.Doc2Vec(vector_size=300, min_count=4, epochs=20)\n",
    "\n",
    "model.build_vocab(training_corpus)\n",
    "\n",
    "model.train(training_corpus, total_examples = model.corpus_count, epochs = model.epochs)\n",
    "\n",
    "# Store Model.\n",
    "model.save(abs_dir + \"MJP/Chapter3-Poetry/Poetry-MJP/mjp_ALL-poetry-letters-wasteLand_chunks_d2v.bin\")"
   ]
  },
  {
   "cell_type": "markdown",
   "metadata": {},
   "source": [
    "# 3. Create Similarity Table"
   ]
  },
  {
   "cell_type": "code",
   "execution_count": 2,
   "metadata": {},
   "outputs": [
    {
     "name": "stderr",
     "output_type": "stream",
     "text": [
      "//anaconda3/lib/python3.7/site-packages/smart_open/smart_open_lib.py:398: UserWarning:\n",
      "\n",
      "This function is deprecated, use smart_open.open instead. See the migration notes for details: https://github.com/RaRe-Technologies/smart_open/blob/master/README.rst#migrating-to-the-new-open-function\n",
      "\n"
     ]
    },
    {
     "name": "stdout",
     "output_type": "stream",
     "text": [
      "CPU times: user 14min 50s, sys: 2min 41s, total: 17min 32s\n",
      "Wall time: 16min 24s\n"
     ]
    }
   ],
   "source": [
    "%%time\n",
    "\n",
    "# Load data.\n",
    "model = gensim.models.doc2vec.Doc2Vec \\\n",
    "    .load(abs_dir + \"MJP/Chapter3-Poetry/Poetry-MJP/mjp_ALL-poetry-letters-wasteLand_chunks_d2v.bin\")\n",
    "docs = list(model.docvecs.index2entity)\n",
    "\n",
    "mjp_df = pd.read_csv(abs_dir + 'MJP/Chapter3-Poetry/Poetry-MJP/mjp_ALL-poetry-letters-wasteLand_chunks.csv', \n",
    "                     sep=',')[['mjp_index', 'date', 'magazine', 'type']]\n",
    "mjp_df_Poetry = mjp_df[mjp_df['mjp_index'] >= 10000]\n",
    "\n",
    "# Convert doc2vec results to dataframe.\n",
    "doc_sims = []\n",
    "\n",
    "for i in mjp_df_Poetry.mjp_index:\n",
    "    doc = \"doc\" + str(i)\n",
    "\n",
    "    for sim in model.docvecs.most_similar(positive = doc, topn = len(docs)):\n",
    "        compDoc = sim[0]\n",
    "        similarity = sim[1]\n",
    "        doc_sims.append([doc, compDoc, similarity])\n",
    "\n",
    "sims_docs = pd.DataFrame(doc_sims, columns = ['mjp_index', 'compDoc', 'similarity'])\n",
    "sims_docs.compDoc = sims_docs.compDoc.replace('doc', '', regex=True).astype(int)\n",
    "sims_docs.mjp_index = sims_docs.mjp_index.replace('doc', '', regex=True).astype(int)\n",
    "\n",
    "# Subset and merge data.\n",
    "sims_docs = sims_docs[(sims_docs['mjp_index'] >= 10000) & (sims_docs['compDoc'] >= 10000)]\n",
    "sims_docs = sims_docs[sims_docs['similarity'] > 0.6]\n",
    "sims_docs = sims_docs.merge(mjp_df_Poetry[['mjp_index', 'date', 'magazine', 'type']],\n",
    "           how = \"inner\", on = 'mjp_index')\n",
    "\n",
    "# Create compDoc dataframe and join with original.\n",
    "simsComps = sims_docs[['mjp_index', 'date', 'type', 'magazine']] \\\n",
    "    .rename(columns = {'mjp_index':'compDoc', 'date':'compDate', 'magazine':'compMag', 'type':'compType'}) \n",
    "\n",
    "sims_docs = sims_docs.merge(simsComps.drop_duplicates(), on = 'compDoc')\n",
    "\n",
    "sims_docs['date'] = sims_docs['date'].astype('datetime64[ns]')\n",
    "sims_docs['compDate'] = sims_docs['compDate'].astype('datetime64[ns]')\n",
    "sims_docs = sims_docs.query('date < compDate')\n",
    "\n",
    "sims_docs.to_csv(abs_dir + 'MJP/Chapter3-Poetry/Poetry-MJP/mjp_ALL-poetry-letters-wasteLand_sims.csv', \n",
    "                 sep=',', index=False)"
   ]
  },
  {
   "cell_type": "markdown",
   "metadata": {},
   "source": [
    "# 4. Analyze Data"
   ]
  },
  {
   "cell_type": "code",
   "execution_count": 20,
   "metadata": {},
   "outputs": [
    {
     "name": "stdout",
     "output_type": "stream",
     "text": [
      "CPU times: user 37.7 ms, sys: 3.49 ms, total: 41.1 ms\n",
      "Wall time: 43.6 ms\n"
     ]
    },
    {
     "data": {
      "text/html": [
       "<div>\n",
       "<style scoped>\n",
       "    .dataframe tbody tr th:only-of-type {\n",
       "        vertical-align: middle;\n",
       "    }\n",
       "\n",
       "    .dataframe tbody tr th {\n",
       "        vertical-align: top;\n",
       "    }\n",
       "\n",
       "    .dataframe thead th {\n",
       "        text-align: right;\n",
       "    }\n",
       "</style>\n",
       "<table border=\"1\" class=\"dataframe\">\n",
       "  <thead>\n",
       "    <tr style=\"text-align: right;\">\n",
       "      <th></th>\n",
       "      <th>sourceLabel</th>\n",
       "      <th>compLabel</th>\n",
       "      <th>similarity</th>\n",
       "    </tr>\n",
       "  </thead>\n",
       "  <tbody>\n",
       "    <tr>\n",
       "      <th>0</th>\n",
       "      <td>poetry marsden magazines 1914-08-01 10016</td>\n",
       "      <td>poetry the little review 1915-02-01 10290</td>\n",
       "      <td>0.611956</td>\n",
       "    </tr>\n",
       "    <tr>\n",
       "      <th>1</th>\n",
       "      <td>poetry marsden magazines 1914-03-02 13233</td>\n",
       "      <td>poetry the little review 1915-02-01 10290</td>\n",
       "      <td>0.631541</td>\n",
       "    </tr>\n",
       "    <tr>\n",
       "      <th>2</th>\n",
       "      <td>poetry marsden magazines 1914-06-01 13350</td>\n",
       "      <td>poetry the little review 1915-02-01 10290</td>\n",
       "      <td>0.616210</td>\n",
       "    </tr>\n",
       "    <tr>\n",
       "      <th>3</th>\n",
       "      <td>poetry poetry, a magazine of verse 1913-11-01 ...</td>\n",
       "      <td>poetry the little review 1915-02-01 10290</td>\n",
       "      <td>0.600857</td>\n",
       "    </tr>\n",
       "    <tr>\n",
       "      <th>4</th>\n",
       "      <td>poetry marsden magazines 1914-06-01 10040</td>\n",
       "      <td>poetry poetry, a magazine of verse 1914-10-01 ...</td>\n",
       "      <td>0.602744</td>\n",
       "    </tr>\n",
       "  </tbody>\n",
       "</table>\n",
       "</div>"
      ],
      "text/plain": [
       "                                         sourceLabel  \\\n",
       "0          poetry marsden magazines 1914-08-01 10016   \n",
       "1          poetry marsden magazines 1914-03-02 13233   \n",
       "2          poetry marsden magazines 1914-06-01 13350   \n",
       "3  poetry poetry, a magazine of verse 1913-11-01 ...   \n",
       "4          poetry marsden magazines 1914-06-01 10040   \n",
       "\n",
       "                                           compLabel  similarity  \n",
       "0          poetry the little review 1915-02-01 10290    0.611956  \n",
       "1          poetry the little review 1915-02-01 10290    0.631541  \n",
       "2          poetry the little review 1915-02-01 10290    0.616210  \n",
       "3          poetry the little review 1915-02-01 10290    0.600857  \n",
       "4  poetry poetry, a magazine of verse 1914-10-01 ...    0.602744  "
      ]
     },
     "execution_count": 20,
     "metadata": {},
     "output_type": "execute_result"
    }
   ],
   "source": [
    "%%time\n",
    "\n",
    "# Sankey / Alluvial Flow Diagram\n",
    "# https://plot.ly/~alishobeiri/1591/plotly-sankey-diagrams/#/\n",
    "\n",
    "def label_maker(row):\n",
    "    label = row['type'] + ' ' + row['magazine'] + ' ' + str(row['date']) + ' ' + str(row['mjp_index'])\n",
    "    return label\n",
    "\n",
    "def compLabel_maker(row):\n",
    "    compLabel = row['compType'] + ' ' + row['compMag'] + ' ' + str(row['compDate']) + ' ' + str(row['compDoc'])\n",
    "    return compLabel\n",
    "\n",
    "\n",
    "poetries = pd.read_csv(abs_dir + 'MJP/Chapter3-Poetry/Poetry-MJP/mjp_ALL-poetry-letters-wasteLand_sims.csv', \n",
    "                       sep=',')\n",
    "\n",
    "# poetries['mjp_index'] = poetries['mjp_index'].astype(int) \n",
    "\n",
    "poetries = poetries \\\n",
    "    .assign(sourceLabel = poetries.apply(lambda row: label_maker(row), axis=1), \n",
    "            compLabel = poetries.apply(lambda row: compLabel_maker(row), axis=1)) \\\n",
    "    [['sourceLabel', 'compLabel', 'similarity']] \n",
    "\n",
    "poetries.head()"
   ]
  },
  {
   "cell_type": "markdown",
   "metadata": {},
   "source": [
    "# 5. Create Nodes and Links"
   ]
  },
  {
   "cell_type": "code",
   "execution_count": 21,
   "metadata": {},
   "outputs": [
    {
     "data": {
      "text/html": [
       "<div>\n",
       "<style scoped>\n",
       "    .dataframe tbody tr th:only-of-type {\n",
       "        vertical-align: middle;\n",
       "    }\n",
       "\n",
       "    .dataframe tbody tr th {\n",
       "        vertical-align: top;\n",
       "    }\n",
       "\n",
       "    .dataframe thead th {\n",
       "        text-align: right;\n",
       "    }\n",
       "</style>\n",
       "<table border=\"1\" class=\"dataframe\">\n",
       "  <thead>\n",
       "    <tr style=\"text-align: right;\">\n",
       "      <th></th>\n",
       "      <th>sourceLabel</th>\n",
       "      <th>compLabel</th>\n",
       "      <th>similarity</th>\n",
       "      <th>source</th>\n",
       "      <th>target</th>\n",
       "      <th>source_occurrence</th>\n",
       "      <th>target_occurrence</th>\n",
       "    </tr>\n",
       "  </thead>\n",
       "  <tbody>\n",
       "    <tr>\n",
       "      <th>22</th>\n",
       "      <td>poetry marsden magazines 1915-03-01 10542</td>\n",
       "      <td>poetry the little review 1918-02-01 13006</td>\n",
       "      <td>0.779712</td>\n",
       "      <td>14</td>\n",
       "      <td>55</td>\n",
       "      <td>9</td>\n",
       "      <td>4</td>\n",
       "    </tr>\n",
       "    <tr>\n",
       "      <th>23</th>\n",
       "      <td>poetry the little review 1916-11-01 10594</td>\n",
       "      <td>poetry the little review 1918-02-01 13006</td>\n",
       "      <td>0.860860</td>\n",
       "      <td>43</td>\n",
       "      <td>55</td>\n",
       "      <td>6</td>\n",
       "      <td>4</td>\n",
       "    </tr>\n",
       "    <tr>\n",
       "      <th>25</th>\n",
       "      <td>poetry marsden magazines 1915-12-01 11125</td>\n",
       "      <td>poetry the little review 1918-02-01 13006</td>\n",
       "      <td>0.845003</td>\n",
       "      <td>16</td>\n",
       "      <td>55</td>\n",
       "      <td>8</td>\n",
       "      <td>4</td>\n",
       "    </tr>\n",
       "    <tr>\n",
       "      <th>26</th>\n",
       "      <td>poetry the little review 1916-08-01 11478</td>\n",
       "      <td>poetry the little review 1918-02-01 13006</td>\n",
       "      <td>0.851722</td>\n",
       "      <td>42</td>\n",
       "      <td>55</td>\n",
       "      <td>7</td>\n",
       "      <td>4</td>\n",
       "    </tr>\n",
       "    <tr>\n",
       "      <th>27</th>\n",
       "      <td>poetry marsden magazines 1915-03-01 10542</td>\n",
       "      <td>poetry the little review 1918-02-01 11352</td>\n",
       "      <td>0.773811</td>\n",
       "      <td>14</td>\n",
       "      <td>54</td>\n",
       "      <td>9</td>\n",
       "      <td>4</td>\n",
       "    </tr>\n",
       "  </tbody>\n",
       "</table>\n",
       "</div>"
      ],
      "text/plain": [
       "                                  sourceLabel  \\\n",
       "22  poetry marsden magazines 1915-03-01 10542   \n",
       "23  poetry the little review 1916-11-01 10594   \n",
       "25  poetry marsden magazines 1915-12-01 11125   \n",
       "26  poetry the little review 1916-08-01 11478   \n",
       "27  poetry marsden magazines 1915-03-01 10542   \n",
       "\n",
       "                                    compLabel  similarity  source  target  \\\n",
       "22  poetry the little review 1918-02-01 13006    0.779712      14      55   \n",
       "23  poetry the little review 1918-02-01 13006    0.860860      43      55   \n",
       "25  poetry the little review 1918-02-01 13006    0.845003      16      55   \n",
       "26  poetry the little review 1918-02-01 13006    0.851722      42      55   \n",
       "27  poetry the little review 1918-02-01 11352    0.773811      14      54   \n",
       "\n",
       "    source_occurrence  target_occurrence  \n",
       "22                  9                  4  \n",
       "23                  6                  4  \n",
       "25                  8                  4  \n",
       "26                  7                  4  \n",
       "27                  9                  4  "
      ]
     },
     "execution_count": 21,
     "metadata": {},
     "output_type": "execute_result"
    }
   ],
   "source": [
    "# Subset by similarity\n",
    "poetries = poetries.query('similarity > .7')\n",
    "\n",
    "# Create Nodes Dataframe.\n",
    "nodes = poetries['sourceLabel'] \\\n",
    "    .append(pd.DataFrame(poetries['compLabel'].values.tolist()), ignore_index=True) \\\n",
    "    .drop_duplicates() \\\n",
    "    .rename(columns = {0 : 'label'})\n",
    "\n",
    "nodes = nodes \\\n",
    "    .assign(code = nodes['label'].astype('category').cat.codes)  \\\n",
    "    .loc[:, 'label':'code'] \\\n",
    "    .sort_values(['code'], ascending=True) # Sorting is necessary to match labels with source codes.\n",
    "\n",
    "\n",
    "nodes_dictionary = nodes.set_index('label')['code'].to_dict()\n",
    "\n",
    "# Create Links Dataframe.\n",
    "links = poetries \\\n",
    "    .assign(source = poetries['sourceLabel'].map(nodes_dictionary),\n",
    "            target = poetries['compLabel'].map(nodes_dictionary))\n",
    "\n",
    "# links = links[['sourceLabel', 'compLabel', 'similarity']]\n",
    "\n",
    "# # Subset Dataframe based on occurrences of matches.\n",
    "links = links \\\n",
    "    .assign(source_occurrence = links.groupby(['source'])['target'].transform('count')) \\\n",
    "    .assign(target_occurrence = links.groupby(['target'])['source'].transform('count')) \\\n",
    "    .query('(source_occurrence > 5) | (target_occurrence > 5)')\n",
    "\n",
    "# # Subset for Lindsay - Lowell - Curran focus.\n",
    "# links = links[(links['source'].isin([6, 7, 14])) | (links['target'].isin([7, 14]))] \\\n",
    "#     .query('target != 2') #     Remove Eddy for clarity in graph.\n",
    "\n",
    "links.head()"
   ]
  },
  {
   "cell_type": "markdown",
   "metadata": {},
   "source": [
    "# 6. Visualize Sankey"
   ]
  },
  {
   "cell_type": "code",
   "execution_count": 22,
   "metadata": {},
   "outputs": [
    {
     "data": {
      "application/vnd.plotly.v1+json": {
       "config": {
        "plotlyServerURL": "https://plot.ly"
       },
       "data": [
        {
         "link": {
          "source": [
           14,
           43,
           16,
           42,
           14,
           43,
           16,
           42,
           14,
           43,
           16,
           52,
           53,
           54,
           42,
           17,
           55,
           14,
           16,
           42,
           14,
           14,
           43,
           16,
           53,
           54,
           42,
           55,
           14,
           43,
           16,
           42,
           14,
           43,
           16,
           42,
           14,
           16
          ],
          "target": [
           55,
           55,
           55,
           55,
           54,
           54,
           54,
           54,
           56,
           56,
           56,
           56,
           56,
           56,
           56,
           56,
           56,
           43,
           43,
           43,
           16,
           17,
           17,
           17,
           17,
           17,
           17,
           17,
           52,
           52,
           52,
           52,
           53,
           53,
           53,
           53,
           42,
           42
          ],
          "value": [
           0.7797118425369263,
           0.860859751701355,
           0.8450025320053101,
           0.8517224192619324,
           0.7738108038902283,
           0.8520365357398987,
           0.7914842367172241,
           0.8414142727851868,
           0.7702634930610657,
           0.8258861303329468,
           0.8343530893325806,
           0.7858978509902954,
           0.775557279586792,
           0.82064288854599,
           0.7942181825637817,
           0.7428247332572937,
           0.8495224118232727,
           0.7544012069702148,
           0.8179987668991089,
           0.8242838978767395,
           0.7452472448348999,
           0.731709897518158,
           0.7304461002349854,
           0.7587005496025085,
           0.7227588891983032,
           0.7603243589401245,
           0.7260874509811401,
           0.7669950127601624,
           0.7294479012489319,
           0.7940946817398071,
           0.7921069860458374,
           0.7839037179946899,
           0.7261699438095093,
           0.8152107000350952,
           0.7951962351799011,
           0.8153865933418274,
           0.7245749235153198,
           0.8279577493667603
          ]
         },
         "node": {
          "label": [
           "letters marsden magazines 1919-01-01 14192",
           "letters marsden magazines 1919-01-01 15847",
           "letters the little review 1915-06-01 10216",
           "letters the little review 1915-06-01 13526",
           "letters the little review 1919-02-01 10873",
           "letters the little review 1919-02-01 12528",
           "letters the masses 1916-04-01 12302",
           "letters the masses 1916-04-01 15612",
           "poetry marsden magazines 1913-08-15 13290",
           "poetry marsden magazines 1913-08-15 14945",
           "poetry marsden magazines 1913-10-01 10257",
           "poetry marsden magazines 1913-12-01 10627",
           "poetry marsden magazines 1914-01-01 11549",
           "poetry marsden magazines 1914-02-02 10655",
           "poetry marsden magazines 1915-03-01 10542",
           "poetry marsden magazines 1915-11-01 12054",
           "poetry marsden magazines 1915-12-01 11125",
           "poetry marsden magazines 1918-06-01 11649",
           "poetry others 1916-02-01 14438",
           "poetry others 1916-02-01 16093",
           "poetry others 1916-02-01 17748",
           "poetry others 1916-02-01 19403",
           "poetry others 1916-04-01 24170",
           "poetry others 1916-04-01 25825",
           "poetry others 1916-04-01 27480",
           "poetry others 1916-04-01 29135",
           "poetry poetry, a magazine of verse 1913-01-01 25923",
           "poetry poetry, a magazine of verse 1913-04-01 14022",
           "poetry poetry, a magazine of verse 1913-04-01 15677",
           "poetry poetry, a magazine of verse 1913-07-01 27353",
           "poetry poetry, a magazine of verse 1913-08-01 30479",
           "poetry poetry, a magazine of verse 1913-11-01 32128",
           "poetry poetry, a magazine of verse 1919-01-01 48688",
           "poetry poetry, a magazine of verse 1919-04-01 14015",
           "poetry poetry, a magazine of verse 1919-04-01 20635",
           "poetry poetry, a magazine of verse 1919-10-01 18145",
           "poetry poetry, a magazine of verse 1919-11-01 12487",
           "poetry poetry, a magazine of verse 1919-11-01 14142",
           "poetry poetry, a magazine of verse 1919-11-01 19107",
           "poetry poetry, a magazine of verse 1920-05-01 25882",
           "poetry poetry, a magazine of verse 1920-11-01 11166",
           "poetry poetry, a magazine of verse 1920-11-01 14476",
           "poetry the little review 1916-08-01 11478",
           "poetry the little review 1916-11-01 10594",
           "poetry the little review 1917-10-01 10758",
           "poetry the little review 1917-10-01 12413",
           "poetry the little review 1917-10-01 14068",
           "poetry the little review 1917-10-01 15723",
           "poetry the little review 1917-12-01 10180",
           "poetry the little review 1917-12-01 11835",
           "poetry the little review 1917-12-01 13490",
           "poetry the little review 1917-12-01 15145",
           "poetry the little review 1918-02-01 11345",
           "poetry the little review 1918-02-01 11351",
           "poetry the little review 1918-02-01 11352",
           "poetry the little review 1918-02-01 13006",
           "poetry the little review 1918-10-01 18070",
           "poetry the little review 1918-11-01 11497"
          ],
          "line": {
           "color": "black",
           "width": 0.5
          },
          "pad": 15,
          "thickness": 20
         },
         "type": "sankey"
        }
       ],
       "layout": {
        "font": {
         "size": 12
        },
        "template": {
         "data": {
          "bar": [
           {
            "error_x": {
             "color": "#2a3f5f"
            },
            "error_y": {
             "color": "#2a3f5f"
            },
            "marker": {
             "line": {
              "color": "#E5ECF6",
              "width": 0.5
             }
            },
            "type": "bar"
           }
          ],
          "barpolar": [
           {
            "marker": {
             "line": {
              "color": "#E5ECF6",
              "width": 0.5
             }
            },
            "type": "barpolar"
           }
          ],
          "carpet": [
           {
            "aaxis": {
             "endlinecolor": "#2a3f5f",
             "gridcolor": "white",
             "linecolor": "white",
             "minorgridcolor": "white",
             "startlinecolor": "#2a3f5f"
            },
            "baxis": {
             "endlinecolor": "#2a3f5f",
             "gridcolor": "white",
             "linecolor": "white",
             "minorgridcolor": "white",
             "startlinecolor": "#2a3f5f"
            },
            "type": "carpet"
           }
          ],
          "choropleth": [
           {
            "colorbar": {
             "outlinewidth": 0,
             "ticks": ""
            },
            "type": "choropleth"
           }
          ],
          "contour": [
           {
            "colorbar": {
             "outlinewidth": 0,
             "ticks": ""
            },
            "colorscale": [
             [
              0,
              "#0d0887"
             ],
             [
              0.1111111111111111,
              "#46039f"
             ],
             [
              0.2222222222222222,
              "#7201a8"
             ],
             [
              0.3333333333333333,
              "#9c179e"
             ],
             [
              0.4444444444444444,
              "#bd3786"
             ],
             [
              0.5555555555555556,
              "#d8576b"
             ],
             [
              0.6666666666666666,
              "#ed7953"
             ],
             [
              0.7777777777777778,
              "#fb9f3a"
             ],
             [
              0.8888888888888888,
              "#fdca26"
             ],
             [
              1,
              "#f0f921"
             ]
            ],
            "type": "contour"
           }
          ],
          "contourcarpet": [
           {
            "colorbar": {
             "outlinewidth": 0,
             "ticks": ""
            },
            "type": "contourcarpet"
           }
          ],
          "heatmap": [
           {
            "colorbar": {
             "outlinewidth": 0,
             "ticks": ""
            },
            "colorscale": [
             [
              0,
              "#0d0887"
             ],
             [
              0.1111111111111111,
              "#46039f"
             ],
             [
              0.2222222222222222,
              "#7201a8"
             ],
             [
              0.3333333333333333,
              "#9c179e"
             ],
             [
              0.4444444444444444,
              "#bd3786"
             ],
             [
              0.5555555555555556,
              "#d8576b"
             ],
             [
              0.6666666666666666,
              "#ed7953"
             ],
             [
              0.7777777777777778,
              "#fb9f3a"
             ],
             [
              0.8888888888888888,
              "#fdca26"
             ],
             [
              1,
              "#f0f921"
             ]
            ],
            "type": "heatmap"
           }
          ],
          "heatmapgl": [
           {
            "colorbar": {
             "outlinewidth": 0,
             "ticks": ""
            },
            "colorscale": [
             [
              0,
              "#0d0887"
             ],
             [
              0.1111111111111111,
              "#46039f"
             ],
             [
              0.2222222222222222,
              "#7201a8"
             ],
             [
              0.3333333333333333,
              "#9c179e"
             ],
             [
              0.4444444444444444,
              "#bd3786"
             ],
             [
              0.5555555555555556,
              "#d8576b"
             ],
             [
              0.6666666666666666,
              "#ed7953"
             ],
             [
              0.7777777777777778,
              "#fb9f3a"
             ],
             [
              0.8888888888888888,
              "#fdca26"
             ],
             [
              1,
              "#f0f921"
             ]
            ],
            "type": "heatmapgl"
           }
          ],
          "histogram": [
           {
            "marker": {
             "colorbar": {
              "outlinewidth": 0,
              "ticks": ""
             }
            },
            "type": "histogram"
           }
          ],
          "histogram2d": [
           {
            "colorbar": {
             "outlinewidth": 0,
             "ticks": ""
            },
            "colorscale": [
             [
              0,
              "#0d0887"
             ],
             [
              0.1111111111111111,
              "#46039f"
             ],
             [
              0.2222222222222222,
              "#7201a8"
             ],
             [
              0.3333333333333333,
              "#9c179e"
             ],
             [
              0.4444444444444444,
              "#bd3786"
             ],
             [
              0.5555555555555556,
              "#d8576b"
             ],
             [
              0.6666666666666666,
              "#ed7953"
             ],
             [
              0.7777777777777778,
              "#fb9f3a"
             ],
             [
              0.8888888888888888,
              "#fdca26"
             ],
             [
              1,
              "#f0f921"
             ]
            ],
            "type": "histogram2d"
           }
          ],
          "histogram2dcontour": [
           {
            "colorbar": {
             "outlinewidth": 0,
             "ticks": ""
            },
            "colorscale": [
             [
              0,
              "#0d0887"
             ],
             [
              0.1111111111111111,
              "#46039f"
             ],
             [
              0.2222222222222222,
              "#7201a8"
             ],
             [
              0.3333333333333333,
              "#9c179e"
             ],
             [
              0.4444444444444444,
              "#bd3786"
             ],
             [
              0.5555555555555556,
              "#d8576b"
             ],
             [
              0.6666666666666666,
              "#ed7953"
             ],
             [
              0.7777777777777778,
              "#fb9f3a"
             ],
             [
              0.8888888888888888,
              "#fdca26"
             ],
             [
              1,
              "#f0f921"
             ]
            ],
            "type": "histogram2dcontour"
           }
          ],
          "mesh3d": [
           {
            "colorbar": {
             "outlinewidth": 0,
             "ticks": ""
            },
            "type": "mesh3d"
           }
          ],
          "parcoords": [
           {
            "line": {
             "colorbar": {
              "outlinewidth": 0,
              "ticks": ""
             }
            },
            "type": "parcoords"
           }
          ],
          "scatter": [
           {
            "marker": {
             "colorbar": {
              "outlinewidth": 0,
              "ticks": ""
             }
            },
            "type": "scatter"
           }
          ],
          "scatter3d": [
           {
            "line": {
             "colorbar": {
              "outlinewidth": 0,
              "ticks": ""
             }
            },
            "marker": {
             "colorbar": {
              "outlinewidth": 0,
              "ticks": ""
             }
            },
            "type": "scatter3d"
           }
          ],
          "scattercarpet": [
           {
            "marker": {
             "colorbar": {
              "outlinewidth": 0,
              "ticks": ""
             }
            },
            "type": "scattercarpet"
           }
          ],
          "scattergeo": [
           {
            "marker": {
             "colorbar": {
              "outlinewidth": 0,
              "ticks": ""
             }
            },
            "type": "scattergeo"
           }
          ],
          "scattergl": [
           {
            "marker": {
             "colorbar": {
              "outlinewidth": 0,
              "ticks": ""
             }
            },
            "type": "scattergl"
           }
          ],
          "scattermapbox": [
           {
            "marker": {
             "colorbar": {
              "outlinewidth": 0,
              "ticks": ""
             }
            },
            "type": "scattermapbox"
           }
          ],
          "scatterpolar": [
           {
            "marker": {
             "colorbar": {
              "outlinewidth": 0,
              "ticks": ""
             }
            },
            "type": "scatterpolar"
           }
          ],
          "scatterpolargl": [
           {
            "marker": {
             "colorbar": {
              "outlinewidth": 0,
              "ticks": ""
             }
            },
            "type": "scatterpolargl"
           }
          ],
          "scatterternary": [
           {
            "marker": {
             "colorbar": {
              "outlinewidth": 0,
              "ticks": ""
             }
            },
            "type": "scatterternary"
           }
          ],
          "surface": [
           {
            "colorbar": {
             "outlinewidth": 0,
             "ticks": ""
            },
            "colorscale": [
             [
              0,
              "#0d0887"
             ],
             [
              0.1111111111111111,
              "#46039f"
             ],
             [
              0.2222222222222222,
              "#7201a8"
             ],
             [
              0.3333333333333333,
              "#9c179e"
             ],
             [
              0.4444444444444444,
              "#bd3786"
             ],
             [
              0.5555555555555556,
              "#d8576b"
             ],
             [
              0.6666666666666666,
              "#ed7953"
             ],
             [
              0.7777777777777778,
              "#fb9f3a"
             ],
             [
              0.8888888888888888,
              "#fdca26"
             ],
             [
              1,
              "#f0f921"
             ]
            ],
            "type": "surface"
           }
          ],
          "table": [
           {
            "cells": {
             "fill": {
              "color": "#EBF0F8"
             },
             "line": {
              "color": "white"
             }
            },
            "header": {
             "fill": {
              "color": "#C8D4E3"
             },
             "line": {
              "color": "white"
             }
            },
            "type": "table"
           }
          ]
         },
         "layout": {
          "annotationdefaults": {
           "arrowcolor": "#2a3f5f",
           "arrowhead": 0,
           "arrowwidth": 1
          },
          "colorscale": {
           "diverging": [
            [
             0,
             "#8e0152"
            ],
            [
             0.1,
             "#c51b7d"
            ],
            [
             0.2,
             "#de77ae"
            ],
            [
             0.3,
             "#f1b6da"
            ],
            [
             0.4,
             "#fde0ef"
            ],
            [
             0.5,
             "#f7f7f7"
            ],
            [
             0.6,
             "#e6f5d0"
            ],
            [
             0.7,
             "#b8e186"
            ],
            [
             0.8,
             "#7fbc41"
            ],
            [
             0.9,
             "#4d9221"
            ],
            [
             1,
             "#276419"
            ]
           ],
           "sequential": [
            [
             0,
             "#0d0887"
            ],
            [
             0.1111111111111111,
             "#46039f"
            ],
            [
             0.2222222222222222,
             "#7201a8"
            ],
            [
             0.3333333333333333,
             "#9c179e"
            ],
            [
             0.4444444444444444,
             "#bd3786"
            ],
            [
             0.5555555555555556,
             "#d8576b"
            ],
            [
             0.6666666666666666,
             "#ed7953"
            ],
            [
             0.7777777777777778,
             "#fb9f3a"
            ],
            [
             0.8888888888888888,
             "#fdca26"
            ],
            [
             1,
             "#f0f921"
            ]
           ],
           "sequentialminus": [
            [
             0,
             "#0d0887"
            ],
            [
             0.1111111111111111,
             "#46039f"
            ],
            [
             0.2222222222222222,
             "#7201a8"
            ],
            [
             0.3333333333333333,
             "#9c179e"
            ],
            [
             0.4444444444444444,
             "#bd3786"
            ],
            [
             0.5555555555555556,
             "#d8576b"
            ],
            [
             0.6666666666666666,
             "#ed7953"
            ],
            [
             0.7777777777777778,
             "#fb9f3a"
            ],
            [
             0.8888888888888888,
             "#fdca26"
            ],
            [
             1,
             "#f0f921"
            ]
           ]
          },
          "colorway": [
           "#636efa",
           "#EF553B",
           "#00cc96",
           "#ab63fa",
           "#FFA15A",
           "#19d3f3",
           "#FF6692",
           "#B6E880",
           "#FF97FF",
           "#FECB52"
          ],
          "font": {
           "color": "#2a3f5f"
          },
          "geo": {
           "bgcolor": "white",
           "lakecolor": "white",
           "landcolor": "#E5ECF6",
           "showlakes": true,
           "showland": true,
           "subunitcolor": "white"
          },
          "hoverlabel": {
           "align": "left"
          },
          "hovermode": "closest",
          "mapbox": {
           "style": "light"
          },
          "paper_bgcolor": "white",
          "plot_bgcolor": "#E5ECF6",
          "polar": {
           "angularaxis": {
            "gridcolor": "white",
            "linecolor": "white",
            "ticks": ""
           },
           "bgcolor": "#E5ECF6",
           "radialaxis": {
            "gridcolor": "white",
            "linecolor": "white",
            "ticks": ""
           }
          },
          "scene": {
           "xaxis": {
            "backgroundcolor": "#E5ECF6",
            "gridcolor": "white",
            "gridwidth": 2,
            "linecolor": "white",
            "showbackground": true,
            "ticks": "",
            "zerolinecolor": "white"
           },
           "yaxis": {
            "backgroundcolor": "#E5ECF6",
            "gridcolor": "white",
            "gridwidth": 2,
            "linecolor": "white",
            "showbackground": true,
            "ticks": "",
            "zerolinecolor": "white"
           },
           "zaxis": {
            "backgroundcolor": "#E5ECF6",
            "gridcolor": "white",
            "gridwidth": 2,
            "linecolor": "white",
            "showbackground": true,
            "ticks": "",
            "zerolinecolor": "white"
           }
          },
          "shapedefaults": {
           "line": {
            "color": "#2a3f5f"
           }
          },
          "ternary": {
           "aaxis": {
            "gridcolor": "white",
            "linecolor": "white",
            "ticks": ""
           },
           "baxis": {
            "gridcolor": "white",
            "linecolor": "white",
            "ticks": ""
           },
           "bgcolor": "#E5ECF6",
           "caxis": {
            "gridcolor": "white",
            "linecolor": "white",
            "ticks": ""
           }
          },
          "title": {
           "x": 0.05
          },
          "xaxis": {
           "automargin": true,
           "gridcolor": "white",
           "linecolor": "white",
           "ticks": "",
           "zerolinecolor": "white",
           "zerolinewidth": 2
          },
          "yaxis": {
           "automargin": true,
           "gridcolor": "white",
           "linecolor": "white",
           "ticks": "",
           "zerolinecolor": "white",
           "zerolinewidth": 2
          }
         }
        },
        "title": {
         "text": "Poetry & Letters Similarity in the Modernist Journals Project"
        }
       }
      },
      "text/html": [
       "<div>\n",
       "        \n",
       "        \n",
       "            <div id=\"6a610635-3ab7-4aae-9886-f2fc95ef8856\" class=\"plotly-graph-div\" style=\"height:525px; width:100%;\"></div>\n",
       "            <script type=\"text/javascript\">\n",
       "                require([\"plotly\"], function(Plotly) {\n",
       "                    window.PLOTLYENV=window.PLOTLYENV || {};\n",
       "                    \n",
       "                if (document.getElementById(\"6a610635-3ab7-4aae-9886-f2fc95ef8856\")) {\n",
       "                    Plotly.newPlot(\n",
       "                        '6a610635-3ab7-4aae-9886-f2fc95ef8856',\n",
       "                        [{\"link\": {\"source\": [14, 43, 16, 42, 14, 43, 16, 42, 14, 43, 16, 52, 53, 54, 42, 17, 55, 14, 16, 42, 14, 14, 43, 16, 53, 54, 42, 55, 14, 43, 16, 42, 14, 43, 16, 42, 14, 16], \"target\": [55, 55, 55, 55, 54, 54, 54, 54, 56, 56, 56, 56, 56, 56, 56, 56, 56, 43, 43, 43, 16, 17, 17, 17, 17, 17, 17, 17, 52, 52, 52, 52, 53, 53, 53, 53, 42, 42], \"value\": [0.7797118425369263, 0.860859751701355, 0.8450025320053101, 0.8517224192619324, 0.7738108038902283, 0.8520365357398987, 0.7914842367172241, 0.8414142727851868, 0.7702634930610657, 0.8258861303329468, 0.8343530893325806, 0.7858978509902954, 0.775557279586792, 0.82064288854599, 0.7942181825637817, 0.7428247332572937, 0.8495224118232727, 0.7544012069702148, 0.8179987668991089, 0.8242838978767395, 0.7452472448348999, 0.731709897518158, 0.7304461002349854, 0.7587005496025085, 0.7227588891983032, 0.7603243589401245, 0.7260874509811401, 0.7669950127601624, 0.7294479012489319, 0.7940946817398071, 0.7921069860458374, 0.7839037179946899, 0.7261699438095093, 0.8152107000350952, 0.7951962351799011, 0.8153865933418274, 0.7245749235153198, 0.8279577493667603]}, \"node\": {\"label\": [\"letters marsden magazines 1919-01-01 14192\", \"letters marsden magazines 1919-01-01 15847\", \"letters the little review 1915-06-01 10216\", \"letters the little review 1915-06-01 13526\", \"letters the little review 1919-02-01 10873\", \"letters the little review 1919-02-01 12528\", \"letters the masses 1916-04-01 12302\", \"letters the masses 1916-04-01 15612\", \"poetry marsden magazines 1913-08-15 13290\", \"poetry marsden magazines 1913-08-15 14945\", \"poetry marsden magazines 1913-10-01 10257\", \"poetry marsden magazines 1913-12-01 10627\", \"poetry marsden magazines 1914-01-01 11549\", \"poetry marsden magazines 1914-02-02 10655\", \"poetry marsden magazines 1915-03-01 10542\", \"poetry marsden magazines 1915-11-01 12054\", \"poetry marsden magazines 1915-12-01 11125\", \"poetry marsden magazines 1918-06-01 11649\", \"poetry others 1916-02-01 14438\", \"poetry others 1916-02-01 16093\", \"poetry others 1916-02-01 17748\", \"poetry others 1916-02-01 19403\", \"poetry others 1916-04-01 24170\", \"poetry others 1916-04-01 25825\", \"poetry others 1916-04-01 27480\", \"poetry others 1916-04-01 29135\", \"poetry poetry, a magazine of verse 1913-01-01 25923\", \"poetry poetry, a magazine of verse 1913-04-01 14022\", \"poetry poetry, a magazine of verse 1913-04-01 15677\", \"poetry poetry, a magazine of verse 1913-07-01 27353\", \"poetry poetry, a magazine of verse 1913-08-01 30479\", \"poetry poetry, a magazine of verse 1913-11-01 32128\", \"poetry poetry, a magazine of verse 1919-01-01 48688\", \"poetry poetry, a magazine of verse 1919-04-01 14015\", \"poetry poetry, a magazine of verse 1919-04-01 20635\", \"poetry poetry, a magazine of verse 1919-10-01 18145\", \"poetry poetry, a magazine of verse 1919-11-01 12487\", \"poetry poetry, a magazine of verse 1919-11-01 14142\", \"poetry poetry, a magazine of verse 1919-11-01 19107\", \"poetry poetry, a magazine of verse 1920-05-01 25882\", \"poetry poetry, a magazine of verse 1920-11-01 11166\", \"poetry poetry, a magazine of verse 1920-11-01 14476\", \"poetry the little review 1916-08-01 11478\", \"poetry the little review 1916-11-01 10594\", \"poetry the little review 1917-10-01 10758\", \"poetry the little review 1917-10-01 12413\", \"poetry the little review 1917-10-01 14068\", \"poetry the little review 1917-10-01 15723\", \"poetry the little review 1917-12-01 10180\", \"poetry the little review 1917-12-01 11835\", \"poetry the little review 1917-12-01 13490\", \"poetry the little review 1917-12-01 15145\", \"poetry the little review 1918-02-01 11345\", \"poetry the little review 1918-02-01 11351\", \"poetry the little review 1918-02-01 11352\", \"poetry the little review 1918-02-01 13006\", \"poetry the little review 1918-10-01 18070\", \"poetry the little review 1918-11-01 11497\"], \"line\": {\"color\": \"black\", \"width\": 0.5}, \"pad\": 15, \"thickness\": 20}, \"type\": \"sankey\"}],\n",
       "                        {\"font\": {\"size\": 12}, \"template\": {\"data\": {\"bar\": [{\"error_x\": {\"color\": \"#2a3f5f\"}, \"error_y\": {\"color\": \"#2a3f5f\"}, \"marker\": {\"line\": {\"color\": \"#E5ECF6\", \"width\": 0.5}}, \"type\": \"bar\"}], \"barpolar\": [{\"marker\": {\"line\": {\"color\": \"#E5ECF6\", \"width\": 0.5}}, \"type\": \"barpolar\"}], \"carpet\": [{\"aaxis\": {\"endlinecolor\": \"#2a3f5f\", \"gridcolor\": \"white\", \"linecolor\": \"white\", \"minorgridcolor\": \"white\", \"startlinecolor\": \"#2a3f5f\"}, \"baxis\": {\"endlinecolor\": \"#2a3f5f\", \"gridcolor\": \"white\", \"linecolor\": \"white\", \"minorgridcolor\": \"white\", \"startlinecolor\": \"#2a3f5f\"}, \"type\": \"carpet\"}], \"choropleth\": [{\"colorbar\": {\"outlinewidth\": 0, \"ticks\": \"\"}, \"type\": \"choropleth\"}], \"contour\": [{\"colorbar\": {\"outlinewidth\": 0, \"ticks\": \"\"}, \"colorscale\": [[0.0, \"#0d0887\"], [0.1111111111111111, \"#46039f\"], [0.2222222222222222, \"#7201a8\"], [0.3333333333333333, \"#9c179e\"], [0.4444444444444444, \"#bd3786\"], [0.5555555555555556, \"#d8576b\"], [0.6666666666666666, \"#ed7953\"], [0.7777777777777778, \"#fb9f3a\"], [0.8888888888888888, \"#fdca26\"], [1.0, \"#f0f921\"]], \"type\": \"contour\"}], \"contourcarpet\": [{\"colorbar\": {\"outlinewidth\": 0, \"ticks\": \"\"}, \"type\": \"contourcarpet\"}], \"heatmap\": [{\"colorbar\": {\"outlinewidth\": 0, \"ticks\": \"\"}, \"colorscale\": [[0.0, \"#0d0887\"], [0.1111111111111111, \"#46039f\"], [0.2222222222222222, \"#7201a8\"], [0.3333333333333333, \"#9c179e\"], [0.4444444444444444, \"#bd3786\"], [0.5555555555555556, \"#d8576b\"], [0.6666666666666666, \"#ed7953\"], [0.7777777777777778, \"#fb9f3a\"], [0.8888888888888888, \"#fdca26\"], [1.0, \"#f0f921\"]], \"type\": \"heatmap\"}], \"heatmapgl\": [{\"colorbar\": {\"outlinewidth\": 0, \"ticks\": \"\"}, \"colorscale\": [[0.0, \"#0d0887\"], [0.1111111111111111, \"#46039f\"], [0.2222222222222222, \"#7201a8\"], [0.3333333333333333, \"#9c179e\"], [0.4444444444444444, \"#bd3786\"], [0.5555555555555556, \"#d8576b\"], [0.6666666666666666, \"#ed7953\"], [0.7777777777777778, \"#fb9f3a\"], [0.8888888888888888, \"#fdca26\"], [1.0, \"#f0f921\"]], \"type\": \"heatmapgl\"}], \"histogram\": [{\"marker\": {\"colorbar\": {\"outlinewidth\": 0, \"ticks\": \"\"}}, \"type\": \"histogram\"}], \"histogram2d\": [{\"colorbar\": {\"outlinewidth\": 0, \"ticks\": \"\"}, \"colorscale\": [[0.0, \"#0d0887\"], [0.1111111111111111, \"#46039f\"], [0.2222222222222222, \"#7201a8\"], [0.3333333333333333, \"#9c179e\"], [0.4444444444444444, \"#bd3786\"], [0.5555555555555556, \"#d8576b\"], [0.6666666666666666, \"#ed7953\"], [0.7777777777777778, \"#fb9f3a\"], [0.8888888888888888, \"#fdca26\"], [1.0, \"#f0f921\"]], \"type\": \"histogram2d\"}], \"histogram2dcontour\": [{\"colorbar\": {\"outlinewidth\": 0, \"ticks\": \"\"}, \"colorscale\": [[0.0, \"#0d0887\"], [0.1111111111111111, \"#46039f\"], [0.2222222222222222, \"#7201a8\"], [0.3333333333333333, \"#9c179e\"], [0.4444444444444444, \"#bd3786\"], [0.5555555555555556, \"#d8576b\"], [0.6666666666666666, \"#ed7953\"], [0.7777777777777778, \"#fb9f3a\"], [0.8888888888888888, \"#fdca26\"], [1.0, \"#f0f921\"]], \"type\": \"histogram2dcontour\"}], \"mesh3d\": [{\"colorbar\": {\"outlinewidth\": 0, \"ticks\": \"\"}, \"type\": \"mesh3d\"}], \"parcoords\": [{\"line\": {\"colorbar\": {\"outlinewidth\": 0, \"ticks\": \"\"}}, \"type\": \"parcoords\"}], \"scatter\": [{\"marker\": {\"colorbar\": {\"outlinewidth\": 0, \"ticks\": \"\"}}, \"type\": \"scatter\"}], \"scatter3d\": [{\"line\": {\"colorbar\": {\"outlinewidth\": 0, \"ticks\": \"\"}}, \"marker\": {\"colorbar\": {\"outlinewidth\": 0, \"ticks\": \"\"}}, \"type\": \"scatter3d\"}], \"scattercarpet\": [{\"marker\": {\"colorbar\": {\"outlinewidth\": 0, \"ticks\": \"\"}}, \"type\": \"scattercarpet\"}], \"scattergeo\": [{\"marker\": {\"colorbar\": {\"outlinewidth\": 0, \"ticks\": \"\"}}, \"type\": \"scattergeo\"}], \"scattergl\": [{\"marker\": {\"colorbar\": {\"outlinewidth\": 0, \"ticks\": \"\"}}, \"type\": \"scattergl\"}], \"scattermapbox\": [{\"marker\": {\"colorbar\": {\"outlinewidth\": 0, \"ticks\": \"\"}}, \"type\": \"scattermapbox\"}], \"scatterpolar\": [{\"marker\": {\"colorbar\": {\"outlinewidth\": 0, \"ticks\": \"\"}}, \"type\": \"scatterpolar\"}], \"scatterpolargl\": [{\"marker\": {\"colorbar\": {\"outlinewidth\": 0, \"ticks\": \"\"}}, \"type\": \"scatterpolargl\"}], \"scatterternary\": [{\"marker\": {\"colorbar\": {\"outlinewidth\": 0, \"ticks\": \"\"}}, \"type\": \"scatterternary\"}], \"surface\": [{\"colorbar\": {\"outlinewidth\": 0, \"ticks\": \"\"}, \"colorscale\": [[0.0, \"#0d0887\"], [0.1111111111111111, \"#46039f\"], [0.2222222222222222, \"#7201a8\"], [0.3333333333333333, \"#9c179e\"], [0.4444444444444444, \"#bd3786\"], [0.5555555555555556, \"#d8576b\"], [0.6666666666666666, \"#ed7953\"], [0.7777777777777778, \"#fb9f3a\"], [0.8888888888888888, \"#fdca26\"], [1.0, \"#f0f921\"]], \"type\": \"surface\"}], \"table\": [{\"cells\": {\"fill\": {\"color\": \"#EBF0F8\"}, \"line\": {\"color\": \"white\"}}, \"header\": {\"fill\": {\"color\": \"#C8D4E3\"}, \"line\": {\"color\": \"white\"}}, \"type\": \"table\"}]}, \"layout\": {\"annotationdefaults\": {\"arrowcolor\": \"#2a3f5f\", \"arrowhead\": 0, \"arrowwidth\": 1}, \"colorscale\": {\"diverging\": [[0, \"#8e0152\"], [0.1, \"#c51b7d\"], [0.2, \"#de77ae\"], [0.3, \"#f1b6da\"], [0.4, \"#fde0ef\"], [0.5, \"#f7f7f7\"], [0.6, \"#e6f5d0\"], [0.7, \"#b8e186\"], [0.8, \"#7fbc41\"], [0.9, \"#4d9221\"], [1, \"#276419\"]], \"sequential\": [[0.0, \"#0d0887\"], [0.1111111111111111, \"#46039f\"], [0.2222222222222222, \"#7201a8\"], [0.3333333333333333, \"#9c179e\"], [0.4444444444444444, \"#bd3786\"], [0.5555555555555556, \"#d8576b\"], [0.6666666666666666, \"#ed7953\"], [0.7777777777777778, \"#fb9f3a\"], [0.8888888888888888, \"#fdca26\"], [1.0, \"#f0f921\"]], \"sequentialminus\": [[0.0, \"#0d0887\"], [0.1111111111111111, \"#46039f\"], [0.2222222222222222, \"#7201a8\"], [0.3333333333333333, \"#9c179e\"], [0.4444444444444444, \"#bd3786\"], [0.5555555555555556, \"#d8576b\"], [0.6666666666666666, \"#ed7953\"], [0.7777777777777778, \"#fb9f3a\"], [0.8888888888888888, \"#fdca26\"], [1.0, \"#f0f921\"]]}, \"colorway\": [\"#636efa\", \"#EF553B\", \"#00cc96\", \"#ab63fa\", \"#FFA15A\", \"#19d3f3\", \"#FF6692\", \"#B6E880\", \"#FF97FF\", \"#FECB52\"], \"font\": {\"color\": \"#2a3f5f\"}, \"geo\": {\"bgcolor\": \"white\", \"lakecolor\": \"white\", \"landcolor\": \"#E5ECF6\", \"showlakes\": true, \"showland\": true, \"subunitcolor\": \"white\"}, \"hoverlabel\": {\"align\": \"left\"}, \"hovermode\": \"closest\", \"mapbox\": {\"style\": \"light\"}, \"paper_bgcolor\": \"white\", \"plot_bgcolor\": \"#E5ECF6\", \"polar\": {\"angularaxis\": {\"gridcolor\": \"white\", \"linecolor\": \"white\", \"ticks\": \"\"}, \"bgcolor\": \"#E5ECF6\", \"radialaxis\": {\"gridcolor\": \"white\", \"linecolor\": \"white\", \"ticks\": \"\"}}, \"scene\": {\"xaxis\": {\"backgroundcolor\": \"#E5ECF6\", \"gridcolor\": \"white\", \"gridwidth\": 2, \"linecolor\": \"white\", \"showbackground\": true, \"ticks\": \"\", \"zerolinecolor\": \"white\"}, \"yaxis\": {\"backgroundcolor\": \"#E5ECF6\", \"gridcolor\": \"white\", \"gridwidth\": 2, \"linecolor\": \"white\", \"showbackground\": true, \"ticks\": \"\", \"zerolinecolor\": \"white\"}, \"zaxis\": {\"backgroundcolor\": \"#E5ECF6\", \"gridcolor\": \"white\", \"gridwidth\": 2, \"linecolor\": \"white\", \"showbackground\": true, \"ticks\": \"\", \"zerolinecolor\": \"white\"}}, \"shapedefaults\": {\"line\": {\"color\": \"#2a3f5f\"}}, \"ternary\": {\"aaxis\": {\"gridcolor\": \"white\", \"linecolor\": \"white\", \"ticks\": \"\"}, \"baxis\": {\"gridcolor\": \"white\", \"linecolor\": \"white\", \"ticks\": \"\"}, \"bgcolor\": \"#E5ECF6\", \"caxis\": {\"gridcolor\": \"white\", \"linecolor\": \"white\", \"ticks\": \"\"}}, \"title\": {\"x\": 0.05}, \"xaxis\": {\"automargin\": true, \"gridcolor\": \"white\", \"linecolor\": \"white\", \"ticks\": \"\", \"zerolinecolor\": \"white\", \"zerolinewidth\": 2}, \"yaxis\": {\"automargin\": true, \"gridcolor\": \"white\", \"linecolor\": \"white\", \"ticks\": \"\", \"zerolinecolor\": \"white\", \"zerolinewidth\": 2}}}, \"title\": {\"text\": \"Poetry & Letters Similarity in the Modernist Journals Project\"}},\n",
       "                        {\"responsive\": true}\n",
       "                    ).then(function(){\n",
       "                            \n",
       "var gd = document.getElementById('6a610635-3ab7-4aae-9886-f2fc95ef8856');\n",
       "var x = new MutationObserver(function (mutations, observer) {{\n",
       "        var display = window.getComputedStyle(gd).display;\n",
       "        if (!display || display === 'none') {{\n",
       "            console.log([gd, 'removed!']);\n",
       "            Plotly.purge(gd);\n",
       "            observer.disconnect();\n",
       "        }}\n",
       "}});\n",
       "\n",
       "// Listen for the removal of the full notebook cells\n",
       "var notebookContainer = gd.closest('#notebook-container');\n",
       "if (notebookContainer) {{\n",
       "    x.observe(notebookContainer, {childList: true});\n",
       "}}\n",
       "\n",
       "// Listen for the clearing of the current output cell\n",
       "var outputEl = gd.closest('.output');\n",
       "if (outputEl) {{\n",
       "    x.observe(outputEl, {childList: true});\n",
       "}}\n",
       "\n",
       "                        })\n",
       "                };\n",
       "                });\n",
       "            </script>\n",
       "        </div>"
      ]
     },
     "metadata": {},
     "output_type": "display_data"
    }
   ],
   "source": [
    "fig = go.Figure(\n",
    "    data=[\n",
    "        go.Sankey(\n",
    "            node = dict(\n",
    "                pad = 15, \n",
    "                thickness = 20, \n",
    "                line = dict(color = \"black\", width = 0.5), \n",
    "                label = nodes['label']), \n",
    "            \n",
    "            link = dict(\n",
    "                source = links[\"source\"], \n",
    "                target = links[\"target\"], \n",
    "                value = links[\"similarity\"])\n",
    "        )\n",
    "    ])\n",
    "\n",
    "fig.update_layout(title = \"Poetry & Letters Similarity in the Modernist Journals Project\", \n",
    "                  font_size=12)\n",
    "fig.show()\n",
    "# fig.write_image('Poetry-MJP/Visualizations/poetry_sankey.png')"
   ]
  }
 ],
 "metadata": {
  "kernelspec": {
   "display_name": "Python 3",
   "language": "python",
   "name": "python3"
  },
  "language_info": {
   "codemirror_mode": {
    "name": "ipython",
    "version": 3
   },
   "file_extension": ".py",
   "mimetype": "text/x-python",
   "name": "python",
   "nbconvert_exporter": "python",
   "pygments_lexer": "ipython3",
   "version": "3.7.3"
  }
 },
 "nbformat": 4,
 "nbformat_minor": 2
}
