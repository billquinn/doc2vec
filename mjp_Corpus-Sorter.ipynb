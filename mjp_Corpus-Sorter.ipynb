{
 "cells": [
  {
   "cell_type": "markdown",
   "metadata": {},
   "source": [
    "# Sort MJP Corpus for Different Scales\n",
    "\n",
    "### &\n",
    "\n",
    "## Create doc2vec Models "
   ]
  },
  {
   "cell_type": "code",
   "execution_count": 5,
   "metadata": {},
   "outputs": [],
   "source": [
    "import pandas as pd\n",
    "import numpy as np\n",
    "import gensim\n",
    "\n",
    "abs_dir = \"/Users/williamquinn/Desktop/DH/Python/MJP/\""
   ]
  },
  {
   "cell_type": "markdown",
   "metadata": {},
   "source": [
    "## Issues.\n",
    "\n",
    "### Create Corpus"
   ]
  },
  {
   "cell_type": "code",
   "execution_count": 9,
   "metadata": {},
   "outputs": [
    {
     "name": "stdout",
     "output_type": "stream",
     "text": [
      "CPU times: user 12.3 s, sys: 446 ms, total: 12.8 s\n",
      "Wall time: 13.1 s\n"
     ]
    }
   ],
   "source": [
    "%%time\n",
    "\n",
    "# Load data.\n",
    "# mjp_documents.txt created by xml parser.\n",
    "mjp_df = pd.read_csv(abs_dir + 'Output/mjp_documents.txt', \n",
    "                     sep='\\t')[['magazine', 'date', 'type', 'text']]\n",
    "\n",
    "# Remove bibliographic information (volume/issue, year) from strings.\n",
    "mjp_df['text'] = mjp_df['text'].astype(str) \\\n",
    "    .str.lower() \\\n",
    "    .str.strip() \\\n",
    "    .str.replace(r'[^\\w\\s]','', regex=True) \\\n",
    "    .str.replace(r\"pgbrk\",\"\", regex=True) \\\n",
    "    .str.replace('\\.0', '', regex=True) \\\n",
    "    .str.replace(r'vol \\w+ no \\d+ \\w+ \\d{4}', '', regex=True) \\\n",
    "    .str.replace(r'\\w+ \\d{4}', '', regex=True) \\\n",
    "    .str.replace(r'vol \\w+ no \\d+', '', regex=True) \\\n",
    "    .str.replace(r'v ', '', regex=True) \\\n",
    "    .str.replace(r'vol ', '', regex=True) \\\n",
    "    .str.replace(r'no ', '', regex=True) \\\n",
    "    .str.replace(r'poetry a magazine of verse', '', regex=True) \\\n",
    "    .str.replace(r'the masses', '', regex=True) \\\n",
    "    .str.replace(r'the freewoman [a ]weekly feminist review', '', regex=True) \\\n",
    "    .str.replace(r'the little review', '', regex=True) \\\n",
    "    .str.replace(r'the crisis', '', regex=True) \\\n",
    "    .str.replace(r'the egoist', '', regex=True)\n",
    "\n",
    "# Concatenate rows by group.\n",
    "mjp_df = mjp_df.groupby(['magazine', 'date'])['text'] \\\n",
    "    .apply(' '.join) \\\n",
    "    .reset_index()\n",
    "\n",
    "mjp_df['mjp_index'] = mjp_df.index\n",
    "\n",
    "# Save Issues.\n",
    "mjp_df.to_csv(abs_dir + \"Output/mjp_issues.txt\", sep=\"\\t\", encoding=\"utf-8\", index=False)"
   ]
  },
  {
   "cell_type": "markdown",
   "metadata": {},
   "source": [
    "### Create Model"
   ]
  },
  {
   "cell_type": "code",
   "execution_count": 10,
   "metadata": {},
   "outputs": [
    {
     "name": "stdout",
     "output_type": "stream",
     "text": [
      "CPU times: user 11min 18s, sys: 7.99 s, total: 11min 26s\n",
      "Wall time: 4min 33s\n"
     ]
    },
    {
     "name": "stderr",
     "output_type": "stream",
     "text": [
      "//anaconda3/lib/python3.7/site-packages/smart_open/smart_open_lib.py:398: UserWarning: This function is deprecated, use smart_open.open instead. See the migration notes for details: https://github.com/RaRe-Technologies/smart_open/blob/master/README.rst#migrating-to-the-new-open-function\n",
      "  'See the migration notes for details: %s' % _MIGRATION_NOTES_URL\n"
     ]
    }
   ],
   "source": [
    "%%time\n",
    "\n",
    "mjp_df = pd.read_csv(abs_dir + 'Output/mjp_issues.txt', sep='\\t')\n",
    "\n",
    "# Create Model\n",
    "tagged_docs = mjp_df.apply \\\n",
    "    (lambda x:gensim.models.doc2vec.TaggedDocument \\\n",
    "     (gensim.utils.simple_preprocess(x.text), \\\n",
    "      ['doc{}'.format(x.mjp_index)]), axis=1)\n",
    "\n",
    "training_corpus = tagged_docs.values\n",
    "\n",
    "# Training.\n",
    "model = gensim.models.doc2vec.Doc2Vec(vector_size=300, min_count=4, epochs=20)\n",
    "\n",
    "model.build_vocab(training_corpus)\n",
    "\n",
    "model.train(training_corpus, total_examples = model.corpus_count, epochs = model.epochs)\n",
    "\n",
    "# Store Model.\n",
    "model.save(abs_dir + \"Output/doc2vec/mjp_issues-d2v.bin\")"
   ]
  },
  {
   "cell_type": "markdown",
   "metadata": {},
   "source": [
    "## Genres.\n",
    "\n",
    "### Create Corpus"
   ]
  },
  {
   "cell_type": "code",
   "execution_count": 18,
   "metadata": {},
   "outputs": [
    {
     "name": "stdout",
     "output_type": "stream",
     "text": [
      "CPU times: user 13.5 s, sys: 500 ms, total: 14 s\n",
      "Wall time: 14.7 s\n"
     ]
    }
   ],
   "source": [
    "%%time\n",
    "\n",
    "# Load data.\n",
    "mjp_df = pd.read_csv(abs_dir + 'Output/mjp_documents.txt', \n",
    "                     sep='\\t')[['magazine', 'date', 'type', 'text']]\n",
    "\n",
    "# Remove bibliographic information (volume/issue, year) from strings.\n",
    "mjp_df['text'] = mjp_df['text'].astype(str) \\\n",
    "    .str.lower() \\\n",
    "    .str.strip() \\\n",
    "    .str.replace(r'[^\\w\\s]','', regex=True) \\\n",
    "    .str.replace(r\"pgbrk\",\"\", regex=True) \\\n",
    "    .str.replace('\\.0', '', regex=True) \\\n",
    "    .str.replace(r'vol \\w+ no \\d+ \\w+ \\d{4}', '', regex=True) \\\n",
    "    .str.replace(r'\\w+ \\d{4}', '', regex=True) \\\n",
    "    .str.replace(r'vol \\w+ no \\d+', '', regex=True) \\\n",
    "    .str.replace(r'v ', '', regex=True) \\\n",
    "    .str.replace(r'vol ', '', regex=True) \\\n",
    "    .str.replace(r'no ', '', regex=True) \\\n",
    "    .str.replace(r'poetry a magazine of verse', '', regex=True) \\\n",
    "    .str.replace(r'the masses', '', regex=True) \\\n",
    "    .str.replace(r'the freewoman [a ]weekly feminist review', '', regex=True) \\\n",
    "    .str.replace(r'the little review', '', regex=True) \\\n",
    "    .str.replace(r'the crisis', '', regex=True) \\\n",
    "    .str.replace(r'the egoist', '', regex=True)\n",
    "\n",
    "# Concatenate rows by group.\n",
    "mjp_df = mjp_df.groupby(['magazine', 'type', 'date'])['text'] \\\n",
    "    .apply(' '.join) \\\n",
    "    .reset_index()\n",
    "\n",
    "# Filter out some genres.\n",
    "filter_types = ['advertisements', 'poetry', 'articles', 'drama', 'fiction', 'letters']\n",
    "mjp_df = mjp_df[mjp_df['type'].isin(filter_types)]\n",
    "\n",
    "mjp_df['mjp_index'] = mjp_df.index\n",
    "\n",
    "# Save Issues.\n",
    "mjp_df.to_csv(abs_dir + \"Output/mjp_genres.txt\", sep=\"\\t\", encoding=\"utf-8\", index=False)"
   ]
  },
  {
   "cell_type": "markdown",
   "metadata": {},
   "source": [
    "### Create Model"
   ]
  },
  {
   "cell_type": "code",
   "execution_count": 19,
   "metadata": {},
   "outputs": [
    {
     "name": "stdout",
     "output_type": "stream",
     "text": [
      "CPU times: user 16min 11s, sys: 11.6 s, total: 16min 22s\n",
      "Wall time: 6min 21s\n"
     ]
    }
   ],
   "source": [
    "%%time\n",
    "\n",
    "mjp_df = pd.read_csv(abs_dir + 'Output/mjp_genres.txt', sep='\\t')\n",
    "\n",
    "# Create Model\n",
    "tagged_docs = mjp_df.apply \\\n",
    "    (lambda x:gensim.models.doc2vec.TaggedDocument \\\n",
    "     (gensim.utils.simple_preprocess(x.text), \\\n",
    "      ['doc{}'.format(x.mjp_index)]), axis=1)\n",
    "\n",
    "training_corpus = tagged_docs.values\n",
    "\n",
    "# Training.\n",
    "model = gensim.models.doc2vec.Doc2Vec(vector_size=300, min_count=4, epochs=20)\n",
    "\n",
    "model.build_vocab(training_corpus)\n",
    "\n",
    "model.train(training_corpus, total_examples = model.corpus_count, epochs = model.epochs)\n",
    "\n",
    "# Store Model.\n",
    "model.save(abs_dir + \"Output/doc2vec/mjp_genres-d2v.bin\")"
   ]
  }
 ],
 "metadata": {
  "kernelspec": {
   "display_name": "Python 3",
   "language": "python",
   "name": "python3"
  },
  "language_info": {
   "codemirror_mode": {
    "name": "ipython",
    "version": 3
   },
   "file_extension": ".py",
   "mimetype": "text/x-python",
   "name": "python",
   "nbconvert_exporter": "python",
   "pygments_lexer": "ipython3",
   "version": "3.7.3"
  }
 },
 "nbformat": 4,
 "nbformat_minor": 2
}
