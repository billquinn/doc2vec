{
 "cells": [
  {
   "cell_type": "markdown",
   "metadata": {},
   "source": [
    "# Similarities Across <i>The Masses</i>"
   ]
  },
  {
   "cell_type": "code",
   "execution_count": 1,
   "metadata": {},
   "outputs": [
    {
     "data": {
      "text/html": [
       "        <script type=\"text/javascript\">\n",
       "        window.PlotlyConfig = {MathJaxConfig: 'local'};\n",
       "        if (window.MathJax) {MathJax.Hub.Config({SVG: {font: \"STIX-Web\"}});}\n",
       "        if (typeof require !== 'undefined') {\n",
       "        require.undef(\"plotly\");\n",
       "        requirejs.config({\n",
       "            paths: {\n",
       "                'plotly': ['https://cdn.plot.ly/plotly-latest.min']\n",
       "            }\n",
       "        });\n",
       "        require(['plotly'], function(Plotly) {\n",
       "            window._Plotly = Plotly;\n",
       "        });\n",
       "        }\n",
       "        </script>\n",
       "        "
      ]
     },
     "metadata": {},
     "output_type": "display_data"
    }
   ],
   "source": [
    "import pandas as pd\n",
    "import numpy as np\n",
    "import gensim\n",
    "\n",
    "import plotly.graph_objs as go\n",
    "from plotly.offline import download_plotlyjs, init_notebook_mode, plot, iplot\n",
    "init_notebook_mode(connected=True)\n",
    "\n",
    "abs_dir = \"/Users/williamquinn/Desktop/DH/Python/MJP/\""
   ]
  },
  {
   "cell_type": "markdown",
   "metadata": {},
   "source": [
    "## Find Similarities"
   ]
  },
  {
   "cell_type": "code",
   "execution_count": 15,
   "metadata": {},
   "outputs": [
    {
     "name": "stdout",
     "output_type": "stream",
     "text": [
      "CPU times: user 4min 44s, sys: 13.3 s, total: 4min 58s\n",
      "Wall time: 3min 23s\n"
     ]
    }
   ],
   "source": [
    "%%time\n",
    "\n",
    "# Load data.\n",
    "model = gensim.models.doc2vec.Doc2Vec.load(abs_dir + \"Output/doc2vec/mjp_entireCorpus_d2v.bin\")\n",
    "docs = list(model.docvecs.index2entity)\n",
    "\n",
    "# Remove NaN (they will need save in previous cell)\n",
    "mjp_df = pd.read_csv(abs_dir + 'Output/mjp_appended_df.csv', sep='\\t') \\\n",
    "    .dropna(subset=[\"text\"], how=\"any\")[['mjp_index', 'date', 'magazine', 'type']]\n",
    "\n",
    "mjp_df_selectedMag = mjp_df.query('magazine == \"Masses\" & (mjp_index > 10000)')\n",
    "\n",
    "# Convert doc2vec results to dataframe.\n",
    "doc_sims = []\n",
    "\n",
    "for i in mjp_df_selectedMag.mjp_index:\n",
    "    doc = \"doc\" + str(i)\n",
    "\n",
    "    for sim in model.docvecs.most_similar(positive = doc, topn = len(docs)):\n",
    "        compDoc = sim[0]\n",
    "        similarity = sim[1]\n",
    "        doc_sims.append([doc, compDoc, similarity])\n",
    "\n",
    "sims_docs = pd.DataFrame(doc_sims, columns = ['mjp_index', 'compDoc', 'similarity'])\n",
    "sims_docs.compDoc = sims_docs.compDoc.replace('doc', '', regex=True).astype(int)\n",
    "sims_docs.mjp_index = sims_docs.mjp_index.replace('doc', '', regex=True).astype(int)\n",
    "\n",
    "\n",
    "# Subset and merge data.\n",
    "sims_docs = sims_docs.merge(mjp_df_selectedMag[['mjp_index', 'date', 'type']],\n",
    "           how = \"inner\", on = 'mjp_index')\n",
    "\n",
    "sims_docs = sims_docs[sims_docs['type'].isin(['articles', 'letters', 'fiction', 'poetry', 'drama'])]\n",
    "\n",
    "# Create compDoc dataframe and join with original.\n",
    "simsComps = sims_docs[['mjp_index', 'date', 'type']] \\\n",
    "    .rename(columns = {'mjp_index':'compDoc', 'date':'compDate', 'type':'compType'}) \n",
    "\n",
    "sims_docs = sims_docs.merge(simsComps.drop_duplicates(), on = 'compDoc')\n",
    "\n",
    "sims_docs['date'] = sims_docs['date'].astype('datetime64[ns]')\n",
    "sims_docs['compDate'] = sims_docs['compDate'].astype('datetime64[ns]')\n",
    "sims_docs = sims_docs.query('date < compDate')\n",
    "\n",
    "sims_docs.to_csv(abs_dir + 'Chapter4-Masses/Masses_Data/d2v/mjp_masses-sims.csv', sep=',', index=False)"
   ]
  },
  {
   "cell_type": "markdown",
   "metadata": {},
   "source": [
    "## Create Nodes & Links."
   ]
  },
  {
   "cell_type": "code",
   "execution_count": 4,
   "metadata": {
    "scrolled": true
   },
   "outputs": [
    {
     "data": {
      "text/html": [
       "<div>\n",
       "<style scoped>\n",
       "    .dataframe tbody tr th:only-of-type {\n",
       "        vertical-align: middle;\n",
       "    }\n",
       "\n",
       "    .dataframe tbody tr th {\n",
       "        vertical-align: top;\n",
       "    }\n",
       "\n",
       "    .dataframe thead th {\n",
       "        text-align: right;\n",
       "    }\n",
       "</style>\n",
       "<table border=\"1\" class=\"dataframe\">\n",
       "  <thead>\n",
       "    <tr style=\"text-align: right;\">\n",
       "      <th></th>\n",
       "      <th>mjp_index</th>\n",
       "      <th>compDoc</th>\n",
       "      <th>similarity</th>\n",
       "      <th>date</th>\n",
       "      <th>type</th>\n",
       "      <th>compDate</th>\n",
       "      <th>compType</th>\n",
       "      <th>label</th>\n",
       "      <th>compLabel</th>\n",
       "    </tr>\n",
       "  </thead>\n",
       "  <tbody>\n",
       "    <tr>\n",
       "      <th>404</th>\n",
       "      <td>12642</td>\n",
       "      <td>16437</td>\n",
       "      <td>0.757558</td>\n",
       "      <td>1913-02-01</td>\n",
       "      <td>letters</td>\n",
       "      <td>1915-09-01</td>\n",
       "      <td>articles</td>\n",
       "      <td>letters-1913-02-01 12642</td>\n",
       "      <td>articles-1915-09-01 16437</td>\n",
       "    </tr>\n",
       "    <tr>\n",
       "      <th>405</th>\n",
       "      <td>12645</td>\n",
       "      <td>16437</td>\n",
       "      <td>0.776988</td>\n",
       "      <td>1913-02-01</td>\n",
       "      <td>letters</td>\n",
       "      <td>1915-09-01</td>\n",
       "      <td>articles</td>\n",
       "      <td>letters-1913-02-01 12645</td>\n",
       "      <td>articles-1915-09-01 16437</td>\n",
       "    </tr>\n",
       "    <tr>\n",
       "      <th>822</th>\n",
       "      <td>18453</td>\n",
       "      <td>16437</td>\n",
       "      <td>0.757666</td>\n",
       "      <td>1913-07-01</td>\n",
       "      <td>letters</td>\n",
       "      <td>1915-09-01</td>\n",
       "      <td>articles</td>\n",
       "      <td>letters-1913-07-01 18453</td>\n",
       "      <td>articles-1915-09-01 16437</td>\n",
       "    </tr>\n",
       "    <tr>\n",
       "      <th>1314</th>\n",
       "      <td>12642</td>\n",
       "      <td>10784</td>\n",
       "      <td>0.721769</td>\n",
       "      <td>1913-02-01</td>\n",
       "      <td>letters</td>\n",
       "      <td>1916-07-01</td>\n",
       "      <td>poetry</td>\n",
       "      <td>letters-1913-02-01 12642</td>\n",
       "      <td>poetry-1916-07-01 10784</td>\n",
       "    </tr>\n",
       "    <tr>\n",
       "      <th>1315</th>\n",
       "      <td>12645</td>\n",
       "      <td>10784</td>\n",
       "      <td>0.742505</td>\n",
       "      <td>1913-02-01</td>\n",
       "      <td>letters</td>\n",
       "      <td>1916-07-01</td>\n",
       "      <td>poetry</td>\n",
       "      <td>letters-1913-02-01 12645</td>\n",
       "      <td>poetry-1916-07-01 10784</td>\n",
       "    </tr>\n",
       "    <tr>\n",
       "      <th>2882</th>\n",
       "      <td>15739</td>\n",
       "      <td>12918</td>\n",
       "      <td>0.710206</td>\n",
       "      <td>1916-12-01</td>\n",
       "      <td>letters</td>\n",
       "      <td>1917-02-01</td>\n",
       "      <td>poetry</td>\n",
       "      <td>letters-1916-12-01 15739</td>\n",
       "      <td>poetry-1917-02-01 12918</td>\n",
       "    </tr>\n",
       "    <tr>\n",
       "      <th>3765</th>\n",
       "      <td>12642</td>\n",
       "      <td>17498</td>\n",
       "      <td>0.729528</td>\n",
       "      <td>1913-02-01</td>\n",
       "      <td>letters</td>\n",
       "      <td>1917-04-01</td>\n",
       "      <td>poetry</td>\n",
       "      <td>letters-1913-02-01 12642</td>\n",
       "      <td>poetry-1917-04-01 17498</td>\n",
       "    </tr>\n",
       "    <tr>\n",
       "      <th>4206</th>\n",
       "      <td>15739</td>\n",
       "      <td>17498</td>\n",
       "      <td>0.701871</td>\n",
       "      <td>1916-12-01</td>\n",
       "      <td>letters</td>\n",
       "      <td>1917-04-01</td>\n",
       "      <td>poetry</td>\n",
       "      <td>letters-1916-12-01 15739</td>\n",
       "      <td>poetry-1917-04-01 17498</td>\n",
       "    </tr>\n",
       "    <tr>\n",
       "      <th>5089</th>\n",
       "      <td>12642</td>\n",
       "      <td>14230</td>\n",
       "      <td>0.726503</td>\n",
       "      <td>1913-02-01</td>\n",
       "      <td>letters</td>\n",
       "      <td>1917-07-01</td>\n",
       "      <td>poetry</td>\n",
       "      <td>letters-1913-02-01 12642</td>\n",
       "      <td>poetry-1917-07-01 14230</td>\n",
       "    </tr>\n",
       "    <tr>\n",
       "      <th>7756</th>\n",
       "      <td>11272</td>\n",
       "      <td>12645</td>\n",
       "      <td>0.773886</td>\n",
       "      <td>1911-02-01</td>\n",
       "      <td>articles</td>\n",
       "      <td>1913-02-01</td>\n",
       "      <td>letters</td>\n",
       "      <td>articles-1911-02-01 11272</td>\n",
       "      <td>letters-1913-02-01 12645</td>\n",
       "    </tr>\n",
       "    <tr>\n",
       "      <th>7945</th>\n",
       "      <td>15979</td>\n",
       "      <td>12645</td>\n",
       "      <td>0.704377</td>\n",
       "      <td>1911-04-01</td>\n",
       "      <td>articles</td>\n",
       "      <td>1913-02-01</td>\n",
       "      <td>letters</td>\n",
       "      <td>articles-1911-04-01 15979</td>\n",
       "      <td>letters-1913-02-01 12645</td>\n",
       "    </tr>\n",
       "    <tr>\n",
       "      <th>9929</th>\n",
       "      <td>12642</td>\n",
       "      <td>17243</td>\n",
       "      <td>0.713219</td>\n",
       "      <td>1913-02-01</td>\n",
       "      <td>letters</td>\n",
       "      <td>1915-04-01</td>\n",
       "      <td>poetry</td>\n",
       "      <td>letters-1913-02-01 12642</td>\n",
       "      <td>poetry-1915-04-01 17243</td>\n",
       "    </tr>\n",
       "    <tr>\n",
       "      <th>9930</th>\n",
       "      <td>12645</td>\n",
       "      <td>17243</td>\n",
       "      <td>0.725780</td>\n",
       "      <td>1913-02-01</td>\n",
       "      <td>letters</td>\n",
       "      <td>1915-04-01</td>\n",
       "      <td>poetry</td>\n",
       "      <td>letters-1913-02-01 12645</td>\n",
       "      <td>poetry-1915-04-01 17243</td>\n",
       "    </tr>\n",
       "    <tr>\n",
       "      <th>10651</th>\n",
       "      <td>11272</td>\n",
       "      <td>15739</td>\n",
       "      <td>0.728884</td>\n",
       "      <td>1911-02-01</td>\n",
       "      <td>articles</td>\n",
       "      <td>1916-12-01</td>\n",
       "      <td>letters</td>\n",
       "      <td>articles-1911-02-01 11272</td>\n",
       "      <td>letters-1916-12-01 15739</td>\n",
       "    </tr>\n",
       "    <tr>\n",
       "      <th>11276</th>\n",
       "      <td>16437</td>\n",
       "      <td>15739</td>\n",
       "      <td>0.728591</td>\n",
       "      <td>1915-09-01</td>\n",
       "      <td>articles</td>\n",
       "      <td>1916-12-01</td>\n",
       "      <td>letters</td>\n",
       "      <td>articles-1915-09-01 16437</td>\n",
       "      <td>letters-1916-12-01 15739</td>\n",
       "    </tr>\n",
       "    <tr>\n",
       "      <th>19246</th>\n",
       "      <td>11272</td>\n",
       "      <td>18453</td>\n",
       "      <td>0.768931</td>\n",
       "      <td>1911-02-01</td>\n",
       "      <td>articles</td>\n",
       "      <td>1913-07-01</td>\n",
       "      <td>letters</td>\n",
       "      <td>articles-1911-02-01 11272</td>\n",
       "      <td>letters-1913-07-01 18453</td>\n",
       "    </tr>\n",
       "    <tr>\n",
       "      <th>23692</th>\n",
       "      <td>11272</td>\n",
       "      <td>12642</td>\n",
       "      <td>0.798628</td>\n",
       "      <td>1911-02-01</td>\n",
       "      <td>articles</td>\n",
       "      <td>1913-02-01</td>\n",
       "      <td>letters</td>\n",
       "      <td>articles-1911-02-01 11272</td>\n",
       "      <td>letters-1913-02-01 12642</td>\n",
       "    </tr>\n",
       "    <tr>\n",
       "      <th>23800</th>\n",
       "      <td>14376</td>\n",
       "      <td>12642</td>\n",
       "      <td>0.724222</td>\n",
       "      <td>1911-10-01</td>\n",
       "      <td>articles</td>\n",
       "      <td>1913-02-01</td>\n",
       "      <td>letters</td>\n",
       "      <td>articles-1911-10-01 14376</td>\n",
       "      <td>letters-1913-02-01 12642</td>\n",
       "    </tr>\n",
       "    <tr>\n",
       "      <th>25677</th>\n",
       "      <td>12645</td>\n",
       "      <td>11706</td>\n",
       "      <td>0.701984</td>\n",
       "      <td>1913-02-01</td>\n",
       "      <td>letters</td>\n",
       "      <td>1915-05-01</td>\n",
       "      <td>articles</td>\n",
       "      <td>letters-1913-02-01 12645</td>\n",
       "      <td>articles-1915-05-01 11706</td>\n",
       "    </tr>\n",
       "    <tr>\n",
       "      <th>33808</th>\n",
       "      <td>12645</td>\n",
       "      <td>11759</td>\n",
       "      <td>0.734557</td>\n",
       "      <td>1913-02-01</td>\n",
       "      <td>letters</td>\n",
       "      <td>1914-02-01</td>\n",
       "      <td>articles</td>\n",
       "      <td>letters-1913-02-01 12645</td>\n",
       "      <td>articles-1914-02-01 11759</td>\n",
       "    </tr>\n",
       "    <tr>\n",
       "      <th>38271</th>\n",
       "      <td>10784</td>\n",
       "      <td>17898</td>\n",
       "      <td>0.714985</td>\n",
       "      <td>1916-07-01</td>\n",
       "      <td>poetry</td>\n",
       "      <td>1917-11-01</td>\n",
       "      <td>letters</td>\n",
       "      <td>poetry-1916-07-01 10784</td>\n",
       "      <td>letters-1917-11-01 17898</td>\n",
       "    </tr>\n",
       "    <tr>\n",
       "      <th>38378</th>\n",
       "      <td>11272</td>\n",
       "      <td>17898</td>\n",
       "      <td>0.774796</td>\n",
       "      <td>1911-02-01</td>\n",
       "      <td>articles</td>\n",
       "      <td>1917-11-01</td>\n",
       "      <td>letters</td>\n",
       "      <td>articles-1911-02-01 11272</td>\n",
       "      <td>letters-1917-11-01 17898</td>\n",
       "    </tr>\n",
       "    <tr>\n",
       "      <th>39140</th>\n",
       "      <td>15819</td>\n",
       "      <td>17898</td>\n",
       "      <td>0.700861</td>\n",
       "      <td>1914-06-01</td>\n",
       "      <td>poetry</td>\n",
       "      <td>1917-11-01</td>\n",
       "      <td>letters</td>\n",
       "      <td>poetry-1914-06-01 15819</td>\n",
       "      <td>letters-1917-11-01 17898</td>\n",
       "    </tr>\n",
       "    <tr>\n",
       "      <th>39215</th>\n",
       "      <td>16437</td>\n",
       "      <td>17898</td>\n",
       "      <td>0.763793</td>\n",
       "      <td>1915-09-01</td>\n",
       "      <td>articles</td>\n",
       "      <td>1917-11-01</td>\n",
       "      <td>letters</td>\n",
       "      <td>articles-1915-09-01 16437</td>\n",
       "      <td>letters-1917-11-01 17898</td>\n",
       "    </tr>\n",
       "    <tr>\n",
       "      <th>39423</th>\n",
       "      <td>17243</td>\n",
       "      <td>17898</td>\n",
       "      <td>0.700415</td>\n",
       "      <td>1915-04-01</td>\n",
       "      <td>poetry</td>\n",
       "      <td>1917-11-01</td>\n",
       "      <td>letters</td>\n",
       "      <td>poetry-1915-04-01 17243</td>\n",
       "      <td>letters-1917-11-01 17898</td>\n",
       "    </tr>\n",
       "    <tr>\n",
       "      <th>39449</th>\n",
       "      <td>17498</td>\n",
       "      <td>17898</td>\n",
       "      <td>0.715299</td>\n",
       "      <td>1917-04-01</td>\n",
       "      <td>poetry</td>\n",
       "      <td>1917-11-01</td>\n",
       "      <td>letters</td>\n",
       "      <td>poetry-1917-04-01 17498</td>\n",
       "      <td>letters-1917-11-01 17898</td>\n",
       "    </tr>\n",
       "    <tr>\n",
       "      <th>45396</th>\n",
       "      <td>11272</td>\n",
       "      <td>10940</td>\n",
       "      <td>0.720635</td>\n",
       "      <td>1911-02-01</td>\n",
       "      <td>articles</td>\n",
       "      <td>1915-02-01</td>\n",
       "      <td>letters</td>\n",
       "      <td>articles-1911-02-01 11272</td>\n",
       "      <td>letters-1915-02-01 10940</td>\n",
       "    </tr>\n",
       "    <tr>\n",
       "      <th>75618</th>\n",
       "      <td>11272</td>\n",
       "      <td>15180</td>\n",
       "      <td>0.719335</td>\n",
       "      <td>1911-02-01</td>\n",
       "      <td>articles</td>\n",
       "      <td>1911-05-01</td>\n",
       "      <td>letters</td>\n",
       "      <td>articles-1911-02-01 11272</td>\n",
       "      <td>letters-1911-05-01 15180</td>\n",
       "    </tr>\n",
       "  </tbody>\n",
       "</table>\n",
       "</div>"
      ],
      "text/plain": [
       "       mjp_index  compDoc  similarity        date      type    compDate  \\\n",
       "404        12642    16437    0.757558  1913-02-01   letters  1915-09-01   \n",
       "405        12645    16437    0.776988  1913-02-01   letters  1915-09-01   \n",
       "822        18453    16437    0.757666  1913-07-01   letters  1915-09-01   \n",
       "1314       12642    10784    0.721769  1913-02-01   letters  1916-07-01   \n",
       "1315       12645    10784    0.742505  1913-02-01   letters  1916-07-01   \n",
       "2882       15739    12918    0.710206  1916-12-01   letters  1917-02-01   \n",
       "3765       12642    17498    0.729528  1913-02-01   letters  1917-04-01   \n",
       "4206       15739    17498    0.701871  1916-12-01   letters  1917-04-01   \n",
       "5089       12642    14230    0.726503  1913-02-01   letters  1917-07-01   \n",
       "7756       11272    12645    0.773886  1911-02-01  articles  1913-02-01   \n",
       "7945       15979    12645    0.704377  1911-04-01  articles  1913-02-01   \n",
       "9929       12642    17243    0.713219  1913-02-01   letters  1915-04-01   \n",
       "9930       12645    17243    0.725780  1913-02-01   letters  1915-04-01   \n",
       "10651      11272    15739    0.728884  1911-02-01  articles  1916-12-01   \n",
       "11276      16437    15739    0.728591  1915-09-01  articles  1916-12-01   \n",
       "19246      11272    18453    0.768931  1911-02-01  articles  1913-07-01   \n",
       "23692      11272    12642    0.798628  1911-02-01  articles  1913-02-01   \n",
       "23800      14376    12642    0.724222  1911-10-01  articles  1913-02-01   \n",
       "25677      12645    11706    0.701984  1913-02-01   letters  1915-05-01   \n",
       "33808      12645    11759    0.734557  1913-02-01   letters  1914-02-01   \n",
       "38271      10784    17898    0.714985  1916-07-01    poetry  1917-11-01   \n",
       "38378      11272    17898    0.774796  1911-02-01  articles  1917-11-01   \n",
       "39140      15819    17898    0.700861  1914-06-01    poetry  1917-11-01   \n",
       "39215      16437    17898    0.763793  1915-09-01  articles  1917-11-01   \n",
       "39423      17243    17898    0.700415  1915-04-01    poetry  1917-11-01   \n",
       "39449      17498    17898    0.715299  1917-04-01    poetry  1917-11-01   \n",
       "45396      11272    10940    0.720635  1911-02-01  articles  1915-02-01   \n",
       "75618      11272    15180    0.719335  1911-02-01  articles  1911-05-01   \n",
       "\n",
       "       compType                      label                  compLabel  \n",
       "404    articles   letters-1913-02-01 12642  articles-1915-09-01 16437  \n",
       "405    articles   letters-1913-02-01 12645  articles-1915-09-01 16437  \n",
       "822    articles   letters-1913-07-01 18453  articles-1915-09-01 16437  \n",
       "1314     poetry   letters-1913-02-01 12642    poetry-1916-07-01 10784  \n",
       "1315     poetry   letters-1913-02-01 12645    poetry-1916-07-01 10784  \n",
       "2882     poetry   letters-1916-12-01 15739    poetry-1917-02-01 12918  \n",
       "3765     poetry   letters-1913-02-01 12642    poetry-1917-04-01 17498  \n",
       "4206     poetry   letters-1916-12-01 15739    poetry-1917-04-01 17498  \n",
       "5089     poetry   letters-1913-02-01 12642    poetry-1917-07-01 14230  \n",
       "7756    letters  articles-1911-02-01 11272   letters-1913-02-01 12645  \n",
       "7945    letters  articles-1911-04-01 15979   letters-1913-02-01 12645  \n",
       "9929     poetry   letters-1913-02-01 12642    poetry-1915-04-01 17243  \n",
       "9930     poetry   letters-1913-02-01 12645    poetry-1915-04-01 17243  \n",
       "10651   letters  articles-1911-02-01 11272   letters-1916-12-01 15739  \n",
       "11276   letters  articles-1915-09-01 16437   letters-1916-12-01 15739  \n",
       "19246   letters  articles-1911-02-01 11272   letters-1913-07-01 18453  \n",
       "23692   letters  articles-1911-02-01 11272   letters-1913-02-01 12642  \n",
       "23800   letters  articles-1911-10-01 14376   letters-1913-02-01 12642  \n",
       "25677  articles   letters-1913-02-01 12645  articles-1915-05-01 11706  \n",
       "33808  articles   letters-1913-02-01 12645  articles-1914-02-01 11759  \n",
       "38271   letters    poetry-1916-07-01 10784   letters-1917-11-01 17898  \n",
       "38378   letters  articles-1911-02-01 11272   letters-1917-11-01 17898  \n",
       "39140   letters    poetry-1914-06-01 15819   letters-1917-11-01 17898  \n",
       "39215   letters  articles-1915-09-01 16437   letters-1917-11-01 17898  \n",
       "39423   letters    poetry-1915-04-01 17243   letters-1917-11-01 17898  \n",
       "39449   letters    poetry-1917-04-01 17498   letters-1917-11-01 17898  \n",
       "45396   letters  articles-1911-02-01 11272   letters-1915-02-01 10940  \n",
       "75618   letters  articles-1911-02-01 11272   letters-1911-05-01 15180  "
      ]
     },
     "execution_count": 4,
     "metadata": {},
     "output_type": "execute_result"
    }
   ],
   "source": [
    "mjp_df = pd.read_csv(abs_dir + 'Chapter4-Masses/Masses_Data/d2v/mjp_masses-sims.csv', sep=',') \\\n",
    "    .query('(similarity > 0.7) \\\n",
    "        & (date < compDate) \\\n",
    "        & (type == \"letters\" or compType == \"letters\") ')\n",
    "\n",
    "mjp_df = mjp_df \\\n",
    "    .assign(\n",
    "        label = mjp_df['type'] + '-' + mjp_df['date'].astype(str) + \" \" + mjp_df['mjp_index'].astype(str),\n",
    "        compLabel = mjp_df['compType'] + '-' + mjp_df['compDate'].astype(str) + \" \" + mjp_df['compDoc'].astype(str)\n",
    "    )\n",
    "\n",
    "mjp_df"
   ]
  },
  {
   "cell_type": "markdown",
   "metadata": {},
   "source": [
    "## Create Nodes and Edges"
   ]
  },
  {
   "cell_type": "code",
   "execution_count": 5,
   "metadata": {
    "scrolled": true
   },
   "outputs": [
    {
     "data": {
      "text/html": [
       "<div>\n",
       "<style scoped>\n",
       "    .dataframe tbody tr th:only-of-type {\n",
       "        vertical-align: middle;\n",
       "    }\n",
       "\n",
       "    .dataframe tbody tr th {\n",
       "        vertical-align: top;\n",
       "    }\n",
       "\n",
       "    .dataframe thead th {\n",
       "        text-align: right;\n",
       "    }\n",
       "</style>\n",
       "<table border=\"1\" class=\"dataframe\">\n",
       "  <thead>\n",
       "    <tr style=\"text-align: right;\">\n",
       "      <th></th>\n",
       "      <th>source</th>\n",
       "      <th>target</th>\n",
       "      <th>similarity</th>\n",
       "      <th>source_occurrence</th>\n",
       "      <th>target_occurrence</th>\n",
       "    </tr>\n",
       "  </thead>\n",
       "  <tbody>\n",
       "    <tr>\n",
       "      <th>75618</th>\n",
       "      <td>2</td>\n",
       "      <td>10</td>\n",
       "      <td>0.719335</td>\n",
       "      <td>7</td>\n",
       "      <td>1</td>\n",
       "    </tr>\n",
       "    <tr>\n",
       "      <th>45396</th>\n",
       "      <td>2</td>\n",
       "      <td>1</td>\n",
       "      <td>0.720635</td>\n",
       "      <td>7</td>\n",
       "      <td>1</td>\n",
       "    </tr>\n",
       "    <tr>\n",
       "      <th>38378</th>\n",
       "      <td>2</td>\n",
       "      <td>17</td>\n",
       "      <td>0.774796</td>\n",
       "      <td>7</td>\n",
       "      <td>6</td>\n",
       "    </tr>\n",
       "    <tr>\n",
       "      <th>23692</th>\n",
       "      <td>2</td>\n",
       "      <td>5</td>\n",
       "      <td>0.798628</td>\n",
       "      <td>7</td>\n",
       "      <td>2</td>\n",
       "    </tr>\n",
       "    <tr>\n",
       "      <th>19246</th>\n",
       "      <td>2</td>\n",
       "      <td>18</td>\n",
       "      <td>0.768931</td>\n",
       "      <td>7</td>\n",
       "      <td>1</td>\n",
       "    </tr>\n",
       "    <tr>\n",
       "      <th>7756</th>\n",
       "      <td>2</td>\n",
       "      <td>6</td>\n",
       "      <td>0.773886</td>\n",
       "      <td>7</td>\n",
       "      <td>2</td>\n",
       "    </tr>\n",
       "    <tr>\n",
       "      <th>10651</th>\n",
       "      <td>2</td>\n",
       "      <td>11</td>\n",
       "      <td>0.728884</td>\n",
       "      <td>7</td>\n",
       "      <td>2</td>\n",
       "    </tr>\n",
       "    <tr>\n",
       "      <th>9930</th>\n",
       "      <td>6</td>\n",
       "      <td>15</td>\n",
       "      <td>0.725780</td>\n",
       "      <td>5</td>\n",
       "      <td>2</td>\n",
       "    </tr>\n",
       "    <tr>\n",
       "      <th>33808</th>\n",
       "      <td>6</td>\n",
       "      <td>4</td>\n",
       "      <td>0.734557</td>\n",
       "      <td>5</td>\n",
       "      <td>1</td>\n",
       "    </tr>\n",
       "    <tr>\n",
       "      <th>25677</th>\n",
       "      <td>6</td>\n",
       "      <td>3</td>\n",
       "      <td>0.701984</td>\n",
       "      <td>5</td>\n",
       "      <td>1</td>\n",
       "    </tr>\n",
       "    <tr>\n",
       "      <th>405</th>\n",
       "      <td>6</td>\n",
       "      <td>14</td>\n",
       "      <td>0.776988</td>\n",
       "      <td>5</td>\n",
       "      <td>3</td>\n",
       "    </tr>\n",
       "    <tr>\n",
       "      <th>404</th>\n",
       "      <td>5</td>\n",
       "      <td>14</td>\n",
       "      <td>0.757558</td>\n",
       "      <td>5</td>\n",
       "      <td>3</td>\n",
       "    </tr>\n",
       "    <tr>\n",
       "      <th>9929</th>\n",
       "      <td>5</td>\n",
       "      <td>15</td>\n",
       "      <td>0.713219</td>\n",
       "      <td>5</td>\n",
       "      <td>2</td>\n",
       "    </tr>\n",
       "    <tr>\n",
       "      <th>5089</th>\n",
       "      <td>5</td>\n",
       "      <td>8</td>\n",
       "      <td>0.726503</td>\n",
       "      <td>5</td>\n",
       "      <td>1</td>\n",
       "    </tr>\n",
       "    <tr>\n",
       "      <th>3765</th>\n",
       "      <td>5</td>\n",
       "      <td>16</td>\n",
       "      <td>0.729528</td>\n",
       "      <td>5</td>\n",
       "      <td>2</td>\n",
       "    </tr>\n",
       "    <tr>\n",
       "      <th>1315</th>\n",
       "      <td>6</td>\n",
       "      <td>0</td>\n",
       "      <td>0.742505</td>\n",
       "      <td>5</td>\n",
       "      <td>2</td>\n",
       "    </tr>\n",
       "    <tr>\n",
       "      <th>1314</th>\n",
       "      <td>5</td>\n",
       "      <td>0</td>\n",
       "      <td>0.721769</td>\n",
       "      <td>5</td>\n",
       "      <td>2</td>\n",
       "    </tr>\n",
       "    <tr>\n",
       "      <th>4206</th>\n",
       "      <td>11</td>\n",
       "      <td>16</td>\n",
       "      <td>0.701871</td>\n",
       "      <td>2</td>\n",
       "      <td>2</td>\n",
       "    </tr>\n",
       "    <tr>\n",
       "      <th>2882</th>\n",
       "      <td>11</td>\n",
       "      <td>7</td>\n",
       "      <td>0.710206</td>\n",
       "      <td>2</td>\n",
       "      <td>1</td>\n",
       "    </tr>\n",
       "    <tr>\n",
       "      <th>39215</th>\n",
       "      <td>14</td>\n",
       "      <td>17</td>\n",
       "      <td>0.763793</td>\n",
       "      <td>2</td>\n",
       "      <td>6</td>\n",
       "    </tr>\n",
       "    <tr>\n",
       "      <th>11276</th>\n",
       "      <td>14</td>\n",
       "      <td>11</td>\n",
       "      <td>0.728591</td>\n",
       "      <td>2</td>\n",
       "      <td>2</td>\n",
       "    </tr>\n",
       "    <tr>\n",
       "      <th>7945</th>\n",
       "      <td>13</td>\n",
       "      <td>6</td>\n",
       "      <td>0.704377</td>\n",
       "      <td>1</td>\n",
       "      <td>2</td>\n",
       "    </tr>\n",
       "    <tr>\n",
       "      <th>23800</th>\n",
       "      <td>9</td>\n",
       "      <td>5</td>\n",
       "      <td>0.724222</td>\n",
       "      <td>1</td>\n",
       "      <td>2</td>\n",
       "    </tr>\n",
       "    <tr>\n",
       "      <th>38271</th>\n",
       "      <td>0</td>\n",
       "      <td>17</td>\n",
       "      <td>0.714985</td>\n",
       "      <td>1</td>\n",
       "      <td>6</td>\n",
       "    </tr>\n",
       "    <tr>\n",
       "      <th>39140</th>\n",
       "      <td>12</td>\n",
       "      <td>17</td>\n",
       "      <td>0.700861</td>\n",
       "      <td>1</td>\n",
       "      <td>6</td>\n",
       "    </tr>\n",
       "    <tr>\n",
       "      <th>39423</th>\n",
       "      <td>15</td>\n",
       "      <td>17</td>\n",
       "      <td>0.700415</td>\n",
       "      <td>1</td>\n",
       "      <td>6</td>\n",
       "    </tr>\n",
       "    <tr>\n",
       "      <th>39449</th>\n",
       "      <td>16</td>\n",
       "      <td>17</td>\n",
       "      <td>0.715299</td>\n",
       "      <td>1</td>\n",
       "      <td>6</td>\n",
       "    </tr>\n",
       "    <tr>\n",
       "      <th>822</th>\n",
       "      <td>18</td>\n",
       "      <td>14</td>\n",
       "      <td>0.757666</td>\n",
       "      <td>1</td>\n",
       "      <td>3</td>\n",
       "    </tr>\n",
       "  </tbody>\n",
       "</table>\n",
       "</div>"
      ],
      "text/plain": [
       "       source  target  similarity  source_occurrence  target_occurrence\n",
       "75618       2      10    0.719335                  7                  1\n",
       "45396       2       1    0.720635                  7                  1\n",
       "38378       2      17    0.774796                  7                  6\n",
       "23692       2       5    0.798628                  7                  2\n",
       "19246       2      18    0.768931                  7                  1\n",
       "7756        2       6    0.773886                  7                  2\n",
       "10651       2      11    0.728884                  7                  2\n",
       "9930        6      15    0.725780                  5                  2\n",
       "33808       6       4    0.734557                  5                  1\n",
       "25677       6       3    0.701984                  5                  1\n",
       "405         6      14    0.776988                  5                  3\n",
       "404         5      14    0.757558                  5                  3\n",
       "9929        5      15    0.713219                  5                  2\n",
       "5089        5       8    0.726503                  5                  1\n",
       "3765        5      16    0.729528                  5                  2\n",
       "1315        6       0    0.742505                  5                  2\n",
       "1314        5       0    0.721769                  5                  2\n",
       "4206       11      16    0.701871                  2                  2\n",
       "2882       11       7    0.710206                  2                  1\n",
       "39215      14      17    0.763793                  2                  6\n",
       "11276      14      11    0.728591                  2                  2\n",
       "7945       13       6    0.704377                  1                  2\n",
       "23800       9       5    0.724222                  1                  2\n",
       "38271       0      17    0.714985                  1                  6\n",
       "39140      12      17    0.700861                  1                  6\n",
       "39423      15      17    0.700415                  1                  6\n",
       "39449      16      17    0.715299                  1                  6\n",
       "822        18      14    0.757666                  1                  3"
      ]
     },
     "execution_count": 5,
     "metadata": {},
     "output_type": "execute_result"
    }
   ],
   "source": [
    "# Create Nodes Dataframe.\n",
    "nodes = mjp_df[['mjp_index', 'label']] \\\n",
    "    .append(mjp_df[['compDoc', 'compLabel']] \\\n",
    "            .rename(columns = {\"compDoc\":\"mjp_index\", \n",
    "                               \"compLabel\":\"label\"})) \\\n",
    "    .drop_duplicates()\n",
    "\n",
    "nodes = nodes \\\n",
    "    .assign(code = nodes['mjp_index'].astype('category').cat.codes) \\\n",
    "    .sort_values('code', ascending=True)\n",
    "\n",
    "nodes_dictionary = nodes.set_index('mjp_index')['code'].to_dict()\n",
    "\n",
    "# Create Links Dataframe.\n",
    "links = mjp_df \\\n",
    "    .assign(source = mjp_df['mjp_index'].map(nodes_dictionary),\n",
    "            target = mjp_df['compDoc'].map(nodes_dictionary))\n",
    "\n",
    "links = links[['source','target', 'similarity']]\n",
    "\n",
    "# Subset Dataframe based on occurrences of matches.\n",
    "links = links \\\n",
    "    .assign(source_occurrence = links.groupby(['source'])['target'].transform('count')) \\\n",
    "    .assign(target_occurrence = links.groupby(['target'])['source'].transform('count')) \n",
    "# \\\n",
    "#     .query('(source_occurrence > 15) | (target_occurrence > 15)')\n",
    "\n",
    "links.sort_values('source_occurrence', ascending=False)"
   ]
  },
  {
   "cell_type": "code",
   "execution_count": 6,
   "metadata": {},
   "outputs": [
    {
     "data": {
      "application/vnd.plotly.v1+json": {
       "config": {
        "linkText": "Export to plot.ly",
        "plotlyServerURL": "https://plot.ly",
        "showLink": false
       },
       "data": [
        {
         "arrangement": "freeform",
         "domain": {
          "x": [
           0,
           1
          ],
          "y": [
           0,
           1
          ]
         },
         "link": {
          "source": [
           5,
           6,
           18,
           5,
           6,
           11,
           5,
           11,
           5,
           2,
           13,
           5,
           6,
           2,
           14,
           2,
           2,
           9,
           6,
           6,
           0,
           2,
           12,
           14,
           15,
           16,
           2,
           2
          ],
          "target": [
           14,
           14,
           14,
           0,
           0,
           7,
           16,
           16,
           8,
           6,
           6,
           15,
           15,
           11,
           11,
           18,
           5,
           5,
           3,
           4,
           17,
           17,
           17,
           17,
           17,
           17,
           1,
           10
          ],
          "value": [
           0.7575579881668091,
           0.7769877910614014,
           0.7576664686203003,
           0.7217688560485841,
           0.7425050735473633,
           0.7102062702178955,
           0.7295281291007996,
           0.7018706798553467,
           0.7265031933784485,
           0.7738864421844482,
           0.7043766975402832,
           0.7132186889648438,
           0.725780189037323,
           0.7288840413093567,
           0.7285913228988647,
           0.7689310908317566,
           0.7986280918121338,
           0.72422194480896,
           0.7019838094711304,
           0.7345565557479858,
           0.7149850130081177,
           0.774795651435852,
           0.7008605003356934,
           0.7637934684753418,
           0.700415313243866,
           0.7152989506721497,
           0.7206349372863771,
           0.7193347215652466
          ]
         },
         "node": {
          "label": [
           "poetry-1916-07-01 10784",
           "letters-1915-02-01 10940",
           "articles-1911-02-01 11272",
           "articles-1915-05-01 11706",
           "articles-1914-02-01 11759",
           "letters-1913-02-01 12642",
           "letters-1913-02-01 12645",
           "poetry-1917-02-01 12918",
           "poetry-1917-07-01 14230",
           "articles-1911-10-01 14376",
           "letters-1911-05-01 15180",
           "letters-1916-12-01 15739",
           "poetry-1914-06-01 15819",
           "articles-1911-04-01 15979",
           "articles-1915-09-01 16437",
           "poetry-1915-04-01 17243",
           "poetry-1917-04-01 17498",
           "letters-1917-11-01 17898",
           "letters-1913-07-01 18453"
          ],
          "line": {
           "color": "#435951",
           "width": 1
          },
          "pad": 20,
          "thickness": 50
         },
         "orientation": "h",
         "type": "sankey",
         "valueformat": ".0f",
         "valuesuffix": "label"
        }
       ],
       "layout": {
        "font": {
         "size": 10
        },
        "template": {
         "data": {
          "bar": [
           {
            "error_x": {
             "color": "#2a3f5f"
            },
            "error_y": {
             "color": "#2a3f5f"
            },
            "marker": {
             "line": {
              "color": "#E5ECF6",
              "width": 0.5
             }
            },
            "type": "bar"
           }
          ],
          "barpolar": [
           {
            "marker": {
             "line": {
              "color": "#E5ECF6",
              "width": 0.5
             }
            },
            "type": "barpolar"
           }
          ],
          "carpet": [
           {
            "aaxis": {
             "endlinecolor": "#2a3f5f",
             "gridcolor": "white",
             "linecolor": "white",
             "minorgridcolor": "white",
             "startlinecolor": "#2a3f5f"
            },
            "baxis": {
             "endlinecolor": "#2a3f5f",
             "gridcolor": "white",
             "linecolor": "white",
             "minorgridcolor": "white",
             "startlinecolor": "#2a3f5f"
            },
            "type": "carpet"
           }
          ],
          "choropleth": [
           {
            "colorbar": {
             "outlinewidth": 0,
             "ticks": ""
            },
            "type": "choropleth"
           }
          ],
          "contour": [
           {
            "colorbar": {
             "outlinewidth": 0,
             "ticks": ""
            },
            "colorscale": [
             [
              0,
              "#0d0887"
             ],
             [
              0.1111111111111111,
              "#46039f"
             ],
             [
              0.2222222222222222,
              "#7201a8"
             ],
             [
              0.3333333333333333,
              "#9c179e"
             ],
             [
              0.4444444444444444,
              "#bd3786"
             ],
             [
              0.5555555555555556,
              "#d8576b"
             ],
             [
              0.6666666666666666,
              "#ed7953"
             ],
             [
              0.7777777777777778,
              "#fb9f3a"
             ],
             [
              0.8888888888888888,
              "#fdca26"
             ],
             [
              1,
              "#f0f921"
             ]
            ],
            "type": "contour"
           }
          ],
          "contourcarpet": [
           {
            "colorbar": {
             "outlinewidth": 0,
             "ticks": ""
            },
            "type": "contourcarpet"
           }
          ],
          "heatmap": [
           {
            "colorbar": {
             "outlinewidth": 0,
             "ticks": ""
            },
            "colorscale": [
             [
              0,
              "#0d0887"
             ],
             [
              0.1111111111111111,
              "#46039f"
             ],
             [
              0.2222222222222222,
              "#7201a8"
             ],
             [
              0.3333333333333333,
              "#9c179e"
             ],
             [
              0.4444444444444444,
              "#bd3786"
             ],
             [
              0.5555555555555556,
              "#d8576b"
             ],
             [
              0.6666666666666666,
              "#ed7953"
             ],
             [
              0.7777777777777778,
              "#fb9f3a"
             ],
             [
              0.8888888888888888,
              "#fdca26"
             ],
             [
              1,
              "#f0f921"
             ]
            ],
            "type": "heatmap"
           }
          ],
          "heatmapgl": [
           {
            "colorbar": {
             "outlinewidth": 0,
             "ticks": ""
            },
            "colorscale": [
             [
              0,
              "#0d0887"
             ],
             [
              0.1111111111111111,
              "#46039f"
             ],
             [
              0.2222222222222222,
              "#7201a8"
             ],
             [
              0.3333333333333333,
              "#9c179e"
             ],
             [
              0.4444444444444444,
              "#bd3786"
             ],
             [
              0.5555555555555556,
              "#d8576b"
             ],
             [
              0.6666666666666666,
              "#ed7953"
             ],
             [
              0.7777777777777778,
              "#fb9f3a"
             ],
             [
              0.8888888888888888,
              "#fdca26"
             ],
             [
              1,
              "#f0f921"
             ]
            ],
            "type": "heatmapgl"
           }
          ],
          "histogram": [
           {
            "marker": {
             "colorbar": {
              "outlinewidth": 0,
              "ticks": ""
             }
            },
            "type": "histogram"
           }
          ],
          "histogram2d": [
           {
            "colorbar": {
             "outlinewidth": 0,
             "ticks": ""
            },
            "colorscale": [
             [
              0,
              "#0d0887"
             ],
             [
              0.1111111111111111,
              "#46039f"
             ],
             [
              0.2222222222222222,
              "#7201a8"
             ],
             [
              0.3333333333333333,
              "#9c179e"
             ],
             [
              0.4444444444444444,
              "#bd3786"
             ],
             [
              0.5555555555555556,
              "#d8576b"
             ],
             [
              0.6666666666666666,
              "#ed7953"
             ],
             [
              0.7777777777777778,
              "#fb9f3a"
             ],
             [
              0.8888888888888888,
              "#fdca26"
             ],
             [
              1,
              "#f0f921"
             ]
            ],
            "type": "histogram2d"
           }
          ],
          "histogram2dcontour": [
           {
            "colorbar": {
             "outlinewidth": 0,
             "ticks": ""
            },
            "colorscale": [
             [
              0,
              "#0d0887"
             ],
             [
              0.1111111111111111,
              "#46039f"
             ],
             [
              0.2222222222222222,
              "#7201a8"
             ],
             [
              0.3333333333333333,
              "#9c179e"
             ],
             [
              0.4444444444444444,
              "#bd3786"
             ],
             [
              0.5555555555555556,
              "#d8576b"
             ],
             [
              0.6666666666666666,
              "#ed7953"
             ],
             [
              0.7777777777777778,
              "#fb9f3a"
             ],
             [
              0.8888888888888888,
              "#fdca26"
             ],
             [
              1,
              "#f0f921"
             ]
            ],
            "type": "histogram2dcontour"
           }
          ],
          "mesh3d": [
           {
            "colorbar": {
             "outlinewidth": 0,
             "ticks": ""
            },
            "type": "mesh3d"
           }
          ],
          "parcoords": [
           {
            "line": {
             "colorbar": {
              "outlinewidth": 0,
              "ticks": ""
             }
            },
            "type": "parcoords"
           }
          ],
          "scatter": [
           {
            "marker": {
             "colorbar": {
              "outlinewidth": 0,
              "ticks": ""
             }
            },
            "type": "scatter"
           }
          ],
          "scatter3d": [
           {
            "line": {
             "colorbar": {
              "outlinewidth": 0,
              "ticks": ""
             }
            },
            "marker": {
             "colorbar": {
              "outlinewidth": 0,
              "ticks": ""
             }
            },
            "type": "scatter3d"
           }
          ],
          "scattercarpet": [
           {
            "marker": {
             "colorbar": {
              "outlinewidth": 0,
              "ticks": ""
             }
            },
            "type": "scattercarpet"
           }
          ],
          "scattergeo": [
           {
            "marker": {
             "colorbar": {
              "outlinewidth": 0,
              "ticks": ""
             }
            },
            "type": "scattergeo"
           }
          ],
          "scattergl": [
           {
            "marker": {
             "colorbar": {
              "outlinewidth": 0,
              "ticks": ""
             }
            },
            "type": "scattergl"
           }
          ],
          "scattermapbox": [
           {
            "marker": {
             "colorbar": {
              "outlinewidth": 0,
              "ticks": ""
             }
            },
            "type": "scattermapbox"
           }
          ],
          "scatterpolar": [
           {
            "marker": {
             "colorbar": {
              "outlinewidth": 0,
              "ticks": ""
             }
            },
            "type": "scatterpolar"
           }
          ],
          "scatterpolargl": [
           {
            "marker": {
             "colorbar": {
              "outlinewidth": 0,
              "ticks": ""
             }
            },
            "type": "scatterpolargl"
           }
          ],
          "scatterternary": [
           {
            "marker": {
             "colorbar": {
              "outlinewidth": 0,
              "ticks": ""
             }
            },
            "type": "scatterternary"
           }
          ],
          "surface": [
           {
            "colorbar": {
             "outlinewidth": 0,
             "ticks": ""
            },
            "colorscale": [
             [
              0,
              "#0d0887"
             ],
             [
              0.1111111111111111,
              "#46039f"
             ],
             [
              0.2222222222222222,
              "#7201a8"
             ],
             [
              0.3333333333333333,
              "#9c179e"
             ],
             [
              0.4444444444444444,
              "#bd3786"
             ],
             [
              0.5555555555555556,
              "#d8576b"
             ],
             [
              0.6666666666666666,
              "#ed7953"
             ],
             [
              0.7777777777777778,
              "#fb9f3a"
             ],
             [
              0.8888888888888888,
              "#fdca26"
             ],
             [
              1,
              "#f0f921"
             ]
            ],
            "type": "surface"
           }
          ],
          "table": [
           {
            "cells": {
             "fill": {
              "color": "#EBF0F8"
             },
             "line": {
              "color": "white"
             }
            },
            "header": {
             "fill": {
              "color": "#C8D4E3"
             },
             "line": {
              "color": "white"
             }
            },
            "type": "table"
           }
          ]
         },
         "layout": {
          "annotationdefaults": {
           "arrowcolor": "#2a3f5f",
           "arrowhead": 0,
           "arrowwidth": 1
          },
          "colorscale": {
           "diverging": [
            [
             0,
             "#8e0152"
            ],
            [
             0.1,
             "#c51b7d"
            ],
            [
             0.2,
             "#de77ae"
            ],
            [
             0.3,
             "#f1b6da"
            ],
            [
             0.4,
             "#fde0ef"
            ],
            [
             0.5,
             "#f7f7f7"
            ],
            [
             0.6,
             "#e6f5d0"
            ],
            [
             0.7,
             "#b8e186"
            ],
            [
             0.8,
             "#7fbc41"
            ],
            [
             0.9,
             "#4d9221"
            ],
            [
             1,
             "#276419"
            ]
           ],
           "sequential": [
            [
             0,
             "#0d0887"
            ],
            [
             0.1111111111111111,
             "#46039f"
            ],
            [
             0.2222222222222222,
             "#7201a8"
            ],
            [
             0.3333333333333333,
             "#9c179e"
            ],
            [
             0.4444444444444444,
             "#bd3786"
            ],
            [
             0.5555555555555556,
             "#d8576b"
            ],
            [
             0.6666666666666666,
             "#ed7953"
            ],
            [
             0.7777777777777778,
             "#fb9f3a"
            ],
            [
             0.8888888888888888,
             "#fdca26"
            ],
            [
             1,
             "#f0f921"
            ]
           ],
           "sequentialminus": [
            [
             0,
             "#0d0887"
            ],
            [
             0.1111111111111111,
             "#46039f"
            ],
            [
             0.2222222222222222,
             "#7201a8"
            ],
            [
             0.3333333333333333,
             "#9c179e"
            ],
            [
             0.4444444444444444,
             "#bd3786"
            ],
            [
             0.5555555555555556,
             "#d8576b"
            ],
            [
             0.6666666666666666,
             "#ed7953"
            ],
            [
             0.7777777777777778,
             "#fb9f3a"
            ],
            [
             0.8888888888888888,
             "#fdca26"
            ],
            [
             1,
             "#f0f921"
            ]
           ]
          },
          "colorway": [
           "#636efa",
           "#EF553B",
           "#00cc96",
           "#ab63fa",
           "#FFA15A",
           "#19d3f3",
           "#FF6692",
           "#B6E880",
           "#FF97FF",
           "#FECB52"
          ],
          "font": {
           "color": "#2a3f5f"
          },
          "geo": {
           "bgcolor": "white",
           "lakecolor": "white",
           "landcolor": "#E5ECF6",
           "showlakes": true,
           "showland": true,
           "subunitcolor": "white"
          },
          "hoverlabel": {
           "align": "left"
          },
          "hovermode": "closest",
          "mapbox": {
           "style": "light"
          },
          "paper_bgcolor": "white",
          "plot_bgcolor": "#E5ECF6",
          "polar": {
           "angularaxis": {
            "gridcolor": "white",
            "linecolor": "white",
            "ticks": ""
           },
           "bgcolor": "#E5ECF6",
           "radialaxis": {
            "gridcolor": "white",
            "linecolor": "white",
            "ticks": ""
           }
          },
          "scene": {
           "xaxis": {
            "backgroundcolor": "#E5ECF6",
            "gridcolor": "white",
            "gridwidth": 2,
            "linecolor": "white",
            "showbackground": true,
            "ticks": "",
            "zerolinecolor": "white"
           },
           "yaxis": {
            "backgroundcolor": "#E5ECF6",
            "gridcolor": "white",
            "gridwidth": 2,
            "linecolor": "white",
            "showbackground": true,
            "ticks": "",
            "zerolinecolor": "white"
           },
           "zaxis": {
            "backgroundcolor": "#E5ECF6",
            "gridcolor": "white",
            "gridwidth": 2,
            "linecolor": "white",
            "showbackground": true,
            "ticks": "",
            "zerolinecolor": "white"
           }
          },
          "shapedefaults": {
           "line": {
            "color": "#2a3f5f"
           }
          },
          "ternary": {
           "aaxis": {
            "gridcolor": "white",
            "linecolor": "white",
            "ticks": ""
           },
           "baxis": {
            "gridcolor": "white",
            "linecolor": "white",
            "ticks": ""
           },
           "bgcolor": "#E5ECF6",
           "caxis": {
            "gridcolor": "white",
            "linecolor": "white",
            "ticks": ""
           }
          },
          "title": {
           "x": 0.05
          },
          "xaxis": {
           "automargin": true,
           "gridcolor": "white",
           "linecolor": "white",
           "ticks": "",
           "zerolinecolor": "white",
           "zerolinewidth": 2
          },
          "yaxis": {
           "automargin": true,
           "gridcolor": "white",
           "linecolor": "white",
           "ticks": "",
           "zerolinecolor": "white",
           "zerolinewidth": 2
          }
         }
        },
        "title": {
         "text": "Similarity (doc2vec) of <i>The Masses</i>"
        }
       }
      },
      "text/html": [
       "<div>\n",
       "        \n",
       "        \n",
       "            <div id=\"d9196aab-43df-4838-871a-7388e0b88598\" class=\"plotly-graph-div\" style=\"height:525px; width:100%;\"></div>\n",
       "            <script type=\"text/javascript\">\n",
       "                require([\"plotly\"], function(Plotly) {\n",
       "                    window.PLOTLYENV=window.PLOTLYENV || {};\n",
       "                    \n",
       "                if (document.getElementById(\"d9196aab-43df-4838-871a-7388e0b88598\")) {\n",
       "                    Plotly.newPlot(\n",
       "                        'd9196aab-43df-4838-871a-7388e0b88598',\n",
       "                        [{\"arrangement\": \"freeform\", \"domain\": {\"x\": [0, 1], \"y\": [0, 1]}, \"link\": {\"source\": [5, 6, 18, 5, 6, 11, 5, 11, 5, 2, 13, 5, 6, 2, 14, 2, 2, 9, 6, 6, 0, 2, 12, 14, 15, 16, 2, 2], \"target\": [14, 14, 14, 0, 0, 7, 16, 16, 8, 6, 6, 15, 15, 11, 11, 18, 5, 5, 3, 4, 17, 17, 17, 17, 17, 17, 1, 10], \"value\": [0.7575579881668091, 0.7769877910614014, 0.7576664686203003, 0.7217688560485841, 0.7425050735473633, 0.7102062702178955, 0.7295281291007996, 0.7018706798553467, 0.7265031933784485, 0.7738864421844482, 0.7043766975402832, 0.7132186889648438, 0.725780189037323, 0.7288840413093567, 0.7285913228988647, 0.7689310908317566, 0.7986280918121338, 0.72422194480896, 0.7019838094711304, 0.7345565557479858, 0.7149850130081177, 0.774795651435852, 0.7008605003356934, 0.7637934684753418, 0.700415313243866, 0.7152989506721497, 0.7206349372863771, 0.7193347215652466]}, \"node\": {\"label\": [\"poetry-1916-07-01 10784\", \"letters-1915-02-01 10940\", \"articles-1911-02-01 11272\", \"articles-1915-05-01 11706\", \"articles-1914-02-01 11759\", \"letters-1913-02-01 12642\", \"letters-1913-02-01 12645\", \"poetry-1917-02-01 12918\", \"poetry-1917-07-01 14230\", \"articles-1911-10-01 14376\", \"letters-1911-05-01 15180\", \"letters-1916-12-01 15739\", \"poetry-1914-06-01 15819\", \"articles-1911-04-01 15979\", \"articles-1915-09-01 16437\", \"poetry-1915-04-01 17243\", \"poetry-1917-04-01 17498\", \"letters-1917-11-01 17898\", \"letters-1913-07-01 18453\"], \"line\": {\"color\": \"#435951\", \"width\": 1}, \"pad\": 20, \"thickness\": 50}, \"orientation\": \"h\", \"type\": \"sankey\", \"valueformat\": \".0f\", \"valuesuffix\": \"label\"}],\n",
       "                        {\"font\": {\"size\": 10}, \"template\": {\"data\": {\"bar\": [{\"error_x\": {\"color\": \"#2a3f5f\"}, \"error_y\": {\"color\": \"#2a3f5f\"}, \"marker\": {\"line\": {\"color\": \"#E5ECF6\", \"width\": 0.5}}, \"type\": \"bar\"}], \"barpolar\": [{\"marker\": {\"line\": {\"color\": \"#E5ECF6\", \"width\": 0.5}}, \"type\": \"barpolar\"}], \"carpet\": [{\"aaxis\": {\"endlinecolor\": \"#2a3f5f\", \"gridcolor\": \"white\", \"linecolor\": \"white\", \"minorgridcolor\": \"white\", \"startlinecolor\": \"#2a3f5f\"}, \"baxis\": {\"endlinecolor\": \"#2a3f5f\", \"gridcolor\": \"white\", \"linecolor\": \"white\", \"minorgridcolor\": \"white\", \"startlinecolor\": \"#2a3f5f\"}, \"type\": \"carpet\"}], \"choropleth\": [{\"colorbar\": {\"outlinewidth\": 0, \"ticks\": \"\"}, \"type\": \"choropleth\"}], \"contour\": [{\"colorbar\": {\"outlinewidth\": 0, \"ticks\": \"\"}, \"colorscale\": [[0.0, \"#0d0887\"], [0.1111111111111111, \"#46039f\"], [0.2222222222222222, \"#7201a8\"], [0.3333333333333333, \"#9c179e\"], [0.4444444444444444, \"#bd3786\"], [0.5555555555555556, \"#d8576b\"], [0.6666666666666666, \"#ed7953\"], [0.7777777777777778, \"#fb9f3a\"], [0.8888888888888888, \"#fdca26\"], [1.0, \"#f0f921\"]], \"type\": \"contour\"}], \"contourcarpet\": [{\"colorbar\": {\"outlinewidth\": 0, \"ticks\": \"\"}, \"type\": \"contourcarpet\"}], \"heatmap\": [{\"colorbar\": {\"outlinewidth\": 0, \"ticks\": \"\"}, \"colorscale\": [[0.0, \"#0d0887\"], [0.1111111111111111, \"#46039f\"], [0.2222222222222222, \"#7201a8\"], [0.3333333333333333, \"#9c179e\"], [0.4444444444444444, \"#bd3786\"], [0.5555555555555556, \"#d8576b\"], [0.6666666666666666, \"#ed7953\"], [0.7777777777777778, \"#fb9f3a\"], [0.8888888888888888, \"#fdca26\"], [1.0, \"#f0f921\"]], \"type\": \"heatmap\"}], \"heatmapgl\": [{\"colorbar\": {\"outlinewidth\": 0, \"ticks\": \"\"}, \"colorscale\": [[0.0, \"#0d0887\"], [0.1111111111111111, \"#46039f\"], [0.2222222222222222, \"#7201a8\"], [0.3333333333333333, \"#9c179e\"], [0.4444444444444444, \"#bd3786\"], [0.5555555555555556, \"#d8576b\"], [0.6666666666666666, \"#ed7953\"], [0.7777777777777778, \"#fb9f3a\"], [0.8888888888888888, \"#fdca26\"], [1.0, \"#f0f921\"]], \"type\": \"heatmapgl\"}], \"histogram\": [{\"marker\": {\"colorbar\": {\"outlinewidth\": 0, \"ticks\": \"\"}}, \"type\": \"histogram\"}], \"histogram2d\": [{\"colorbar\": {\"outlinewidth\": 0, \"ticks\": \"\"}, \"colorscale\": [[0.0, \"#0d0887\"], [0.1111111111111111, \"#46039f\"], [0.2222222222222222, \"#7201a8\"], [0.3333333333333333, \"#9c179e\"], [0.4444444444444444, \"#bd3786\"], [0.5555555555555556, \"#d8576b\"], [0.6666666666666666, \"#ed7953\"], [0.7777777777777778, \"#fb9f3a\"], [0.8888888888888888, \"#fdca26\"], [1.0, \"#f0f921\"]], \"type\": \"histogram2d\"}], \"histogram2dcontour\": [{\"colorbar\": {\"outlinewidth\": 0, \"ticks\": \"\"}, \"colorscale\": [[0.0, \"#0d0887\"], [0.1111111111111111, \"#46039f\"], [0.2222222222222222, \"#7201a8\"], [0.3333333333333333, \"#9c179e\"], [0.4444444444444444, \"#bd3786\"], [0.5555555555555556, \"#d8576b\"], [0.6666666666666666, \"#ed7953\"], [0.7777777777777778, \"#fb9f3a\"], [0.8888888888888888, \"#fdca26\"], [1.0, \"#f0f921\"]], \"type\": \"histogram2dcontour\"}], \"mesh3d\": [{\"colorbar\": {\"outlinewidth\": 0, \"ticks\": \"\"}, \"type\": \"mesh3d\"}], \"parcoords\": [{\"line\": {\"colorbar\": {\"outlinewidth\": 0, \"ticks\": \"\"}}, \"type\": \"parcoords\"}], \"scatter\": [{\"marker\": {\"colorbar\": {\"outlinewidth\": 0, \"ticks\": \"\"}}, \"type\": \"scatter\"}], \"scatter3d\": [{\"line\": {\"colorbar\": {\"outlinewidth\": 0, \"ticks\": \"\"}}, \"marker\": {\"colorbar\": {\"outlinewidth\": 0, \"ticks\": \"\"}}, \"type\": \"scatter3d\"}], \"scattercarpet\": [{\"marker\": {\"colorbar\": {\"outlinewidth\": 0, \"ticks\": \"\"}}, \"type\": \"scattercarpet\"}], \"scattergeo\": [{\"marker\": {\"colorbar\": {\"outlinewidth\": 0, \"ticks\": \"\"}}, \"type\": \"scattergeo\"}], \"scattergl\": [{\"marker\": {\"colorbar\": {\"outlinewidth\": 0, \"ticks\": \"\"}}, \"type\": \"scattergl\"}], \"scattermapbox\": [{\"marker\": {\"colorbar\": {\"outlinewidth\": 0, \"ticks\": \"\"}}, \"type\": \"scattermapbox\"}], \"scatterpolar\": [{\"marker\": {\"colorbar\": {\"outlinewidth\": 0, \"ticks\": \"\"}}, \"type\": \"scatterpolar\"}], \"scatterpolargl\": [{\"marker\": {\"colorbar\": {\"outlinewidth\": 0, \"ticks\": \"\"}}, \"type\": \"scatterpolargl\"}], \"scatterternary\": [{\"marker\": {\"colorbar\": {\"outlinewidth\": 0, \"ticks\": \"\"}}, \"type\": \"scatterternary\"}], \"surface\": [{\"colorbar\": {\"outlinewidth\": 0, \"ticks\": \"\"}, \"colorscale\": [[0.0, \"#0d0887\"], [0.1111111111111111, \"#46039f\"], [0.2222222222222222, \"#7201a8\"], [0.3333333333333333, \"#9c179e\"], [0.4444444444444444, \"#bd3786\"], [0.5555555555555556, \"#d8576b\"], [0.6666666666666666, \"#ed7953\"], [0.7777777777777778, \"#fb9f3a\"], [0.8888888888888888, \"#fdca26\"], [1.0, \"#f0f921\"]], \"type\": \"surface\"}], \"table\": [{\"cells\": {\"fill\": {\"color\": \"#EBF0F8\"}, \"line\": {\"color\": \"white\"}}, \"header\": {\"fill\": {\"color\": \"#C8D4E3\"}, \"line\": {\"color\": \"white\"}}, \"type\": \"table\"}]}, \"layout\": {\"annotationdefaults\": {\"arrowcolor\": \"#2a3f5f\", \"arrowhead\": 0, \"arrowwidth\": 1}, \"colorscale\": {\"diverging\": [[0, \"#8e0152\"], [0.1, \"#c51b7d\"], [0.2, \"#de77ae\"], [0.3, \"#f1b6da\"], [0.4, \"#fde0ef\"], [0.5, \"#f7f7f7\"], [0.6, \"#e6f5d0\"], [0.7, \"#b8e186\"], [0.8, \"#7fbc41\"], [0.9, \"#4d9221\"], [1, \"#276419\"]], \"sequential\": [[0.0, \"#0d0887\"], [0.1111111111111111, \"#46039f\"], [0.2222222222222222, \"#7201a8\"], [0.3333333333333333, \"#9c179e\"], [0.4444444444444444, \"#bd3786\"], [0.5555555555555556, \"#d8576b\"], [0.6666666666666666, \"#ed7953\"], [0.7777777777777778, \"#fb9f3a\"], [0.8888888888888888, \"#fdca26\"], [1.0, \"#f0f921\"]], \"sequentialminus\": [[0.0, \"#0d0887\"], [0.1111111111111111, \"#46039f\"], [0.2222222222222222, \"#7201a8\"], [0.3333333333333333, \"#9c179e\"], [0.4444444444444444, \"#bd3786\"], [0.5555555555555556, \"#d8576b\"], [0.6666666666666666, \"#ed7953\"], [0.7777777777777778, \"#fb9f3a\"], [0.8888888888888888, \"#fdca26\"], [1.0, \"#f0f921\"]]}, \"colorway\": [\"#636efa\", \"#EF553B\", \"#00cc96\", \"#ab63fa\", \"#FFA15A\", \"#19d3f3\", \"#FF6692\", \"#B6E880\", \"#FF97FF\", \"#FECB52\"], \"font\": {\"color\": \"#2a3f5f\"}, \"geo\": {\"bgcolor\": \"white\", \"lakecolor\": \"white\", \"landcolor\": \"#E5ECF6\", \"showlakes\": true, \"showland\": true, \"subunitcolor\": \"white\"}, \"hoverlabel\": {\"align\": \"left\"}, \"hovermode\": \"closest\", \"mapbox\": {\"style\": \"light\"}, \"paper_bgcolor\": \"white\", \"plot_bgcolor\": \"#E5ECF6\", \"polar\": {\"angularaxis\": {\"gridcolor\": \"white\", \"linecolor\": \"white\", \"ticks\": \"\"}, \"bgcolor\": \"#E5ECF6\", \"radialaxis\": {\"gridcolor\": \"white\", \"linecolor\": \"white\", \"ticks\": \"\"}}, \"scene\": {\"xaxis\": {\"backgroundcolor\": \"#E5ECF6\", \"gridcolor\": \"white\", \"gridwidth\": 2, \"linecolor\": \"white\", \"showbackground\": true, \"ticks\": \"\", \"zerolinecolor\": \"white\"}, \"yaxis\": {\"backgroundcolor\": \"#E5ECF6\", \"gridcolor\": \"white\", \"gridwidth\": 2, \"linecolor\": \"white\", \"showbackground\": true, \"ticks\": \"\", \"zerolinecolor\": \"white\"}, \"zaxis\": {\"backgroundcolor\": \"#E5ECF6\", \"gridcolor\": \"white\", \"gridwidth\": 2, \"linecolor\": \"white\", \"showbackground\": true, \"ticks\": \"\", \"zerolinecolor\": \"white\"}}, \"shapedefaults\": {\"line\": {\"color\": \"#2a3f5f\"}}, \"ternary\": {\"aaxis\": {\"gridcolor\": \"white\", \"linecolor\": \"white\", \"ticks\": \"\"}, \"baxis\": {\"gridcolor\": \"white\", \"linecolor\": \"white\", \"ticks\": \"\"}, \"bgcolor\": \"#E5ECF6\", \"caxis\": {\"gridcolor\": \"white\", \"linecolor\": \"white\", \"ticks\": \"\"}}, \"title\": {\"x\": 0.05}, \"xaxis\": {\"automargin\": true, \"gridcolor\": \"white\", \"linecolor\": \"white\", \"ticks\": \"\", \"zerolinecolor\": \"white\", \"zerolinewidth\": 2}, \"yaxis\": {\"automargin\": true, \"gridcolor\": \"white\", \"linecolor\": \"white\", \"ticks\": \"\", \"zerolinecolor\": \"white\", \"zerolinewidth\": 2}}}, \"title\": {\"text\": \"Similarity (doc2vec) of <i>The Masses</i>\"}},\n",
       "                        {\"responsive\": true}\n",
       "                    ).then(function(){\n",
       "                            \n",
       "var gd = document.getElementById('d9196aab-43df-4838-871a-7388e0b88598');\n",
       "var x = new MutationObserver(function (mutations, observer) {{\n",
       "        var display = window.getComputedStyle(gd).display;\n",
       "        if (!display || display === 'none') {{\n",
       "            console.log([gd, 'removed!']);\n",
       "            Plotly.purge(gd);\n",
       "            observer.disconnect();\n",
       "        }}\n",
       "}});\n",
       "\n",
       "// Listen for the removal of the full notebook cells\n",
       "var notebookContainer = gd.closest('#notebook-container');\n",
       "if (notebookContainer) {{\n",
       "    x.observe(notebookContainer, {childList: true});\n",
       "}}\n",
       "\n",
       "// Listen for the clearing of the current output cell\n",
       "var outputEl = gd.closest('.output');\n",
       "if (outputEl) {{\n",
       "    x.observe(outputEl, {childList: true});\n",
       "}}\n",
       "\n",
       "                        })\n",
       "                };\n",
       "                });\n",
       "            </script>\n",
       "        </div>"
      ]
     },
     "metadata": {},
     "output_type": "display_data"
    }
   ],
   "source": [
    "data_trace = dict(\n",
    "#     Create Canvas\n",
    "    type='sankey',\n",
    "    domain = dict(\n",
    "      x =  [0,1],\n",
    "      y =  [0,1]),\n",
    "    orientation = \"h\",\n",
    "    valueformat = \".0f\",\n",
    "    valuesuffix = 'label',\n",
    "    arrangement = 'freeform', # snap, perpendicular, freeform, fixed\n",
    "    \n",
    "#     Create Nodes\n",
    "    node = dict(\n",
    "      pad = 20,\n",
    "      thickness = 50,\n",
    "      line = dict(\n",
    "        color = \"#435951\",\n",
    "        width = 1\n",
    "      ),\n",
    "      label = nodes['label']\n",
    "    ),\n",
    "    \n",
    "#     Create Links\n",
    "    link = dict(\n",
    "      source = links[\"source\"],\n",
    "      target = links[\"target\"],\n",
    "      value = links[\"similarity\"])\n",
    ")\n",
    "\n",
    "layout =  dict(\n",
    "    title = \"Similarity (doc2vec) of <i>The Masses</i>\",\n",
    "    font = dict(\n",
    "      size = 10),    \n",
    ")\n",
    "\n",
    "fig = dict(data=[data_trace], layout=layout)\n",
    "iplot(fig)"
   ]
  },
  {
   "cell_type": "markdown",
   "metadata": {},
   "source": [
    "## Exploring Similarities."
   ]
  },
  {
   "cell_type": "code",
   "execution_count": 7,
   "metadata": {},
   "outputs": [],
   "source": [
    "mjp_reader = pd.read_csv(abs_dir + 'Output/mjp_appended_df.csv', sep='\\t') \\\n",
    "    .dropna(subset=[\"text\"], how=\"any\") \\\n",
    "    .query('magazine == \"Masses\" \\\n",
    "        & (mjp_index > 10000)') \\"
   ]
  },
  {
   "cell_type": "code",
   "execution_count": 12,
   "metadata": {},
   "outputs": [
    {
     "data": {
      "text/plain": [
       "'a big one  from terre haute    has taken on new life and appears under the auspices of a new combination of social revolutionists which insures its future success the current number of   abounds with vital matter from the virile pens of some of the ablest writers in the movement it is filled with firstclass stuff from cover to cover the clear cry of the revolution rings all through its pages and the illustrations are such as could be produced only by artists animated by the militant spirit of socialism   deserves the hearty support of all who believe in the overthrow of wageslavery and in social regeneration through working class emancipation  eugene debs'"
      ]
     },
     "execution_count": 12,
     "metadata": {},
     "output_type": "execute_result"
    }
   ],
   "source": [
    "mjp_reader.query('mjp_index == 12645').iloc[0,3]"
   ]
  }
 ],
 "metadata": {
  "kernelspec": {
   "display_name": "Python 3",
   "language": "python",
   "name": "python3"
  },
  "language_info": {
   "codemirror_mode": {
    "name": "ipython",
    "version": 3
   },
   "file_extension": ".py",
   "mimetype": "text/x-python",
   "name": "python",
   "nbconvert_exporter": "python",
   "pygments_lexer": "ipython3",
   "version": "3.7.3"
  }
 },
 "nbformat": 4,
 "nbformat_minor": 2
}
